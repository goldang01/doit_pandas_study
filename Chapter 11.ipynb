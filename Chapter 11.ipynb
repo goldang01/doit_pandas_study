{
 "cells": [
  {
   "cell_type": "markdown",
   "id": "buried-enough",
   "metadata": {},
   "source": [
    "# 11 그룹연산\n",
    "\n",
    "판다스의 그룹 연산은 데이터를 집계하거나 변환하는 등의 작업을 한 번에 처리할 수 있는 강력한 기능입니다. 보통 그룹 연산은 데이터를 '분할'하고 '반영'하고 '결합'하는 과정을 거치게 되는데, '분할'은 어떤 기준으로 데이터를 나누는 것이고 '반영'은 함수 등을 적용하여 데이터를 처리하는 것입니다. 그리고 '결합'은 처리한 결과를 다시 합치는 것이죠. 보통 이 과정을 하나로 묶어 '분할-반영-결합(Split-Apply-Combine)이라고 합니다. 혹시 데이터베이스를 공부한 적이 있나요? 그러면 판다스의 groupby 메서드가 SQL의 GROUP BY 구문과 비슷하다는 것을 알 수 있을 것입니다. 사실 '분할-반영-결합'은 오래 전부터 분산 컴퓨팅 분야에서 빅데이터(Big Data)를 처리하기 위해 사용했던 방법입니다. 물론 그룹 연산을 사용하지 않아도 개별적인 과정으로 데이터를 분할, 반영, 결합할 수 있습니다. 하지만 그룹 연산을 사용하면 더 큰 용량의 데이터도 손쉽게 처리할 수 있기 때문에 반드시 알아두어야 합니다.\n",
    "\n",
    "## 11-1 데이터 집계\n",
    "\n",
    "## 11-2 데이터 변환\n",
    "\n",
    "## 11-3 데이터 필터링\n",
    "\n",
    "## 11-4 그룹 오브젝트\n"
   ]
  },
  {
   "cell_type": "markdown",
   "id": "stupid-belle",
   "metadata": {},
   "source": [
    "# 11 - 1 데이터 집계\n",
    "\n",
    "### 데이터 집게하기 - groupby 메서드\n",
    "\n",
    "02장에서 갭마인더 데이터 집합으로 각 연도의 평균 수명을 구했던 것을 기억하나요? 수집한 데이터를 바탕으로 평균이나 합 등을 구하여 의미 있는 값을 도출해 내는 것을 '집계'라고 합니다. 데이터를 집계하면 전체 데이터를 요약, 정리하여 볼 수 있기 때문에 데이터 분석이 훨씬 편해지죠. 그러면 groupby 메서드로 평균값을 구하는 과정을 통해 데이터 집계가 무엇인지 알아보겠습니다.\n",
    "\n",
    "#### groupby 메서드로 평균값 구하기\n",
    "\n",
    "#### 1. \n",
    "\n",
    "먼저 갭마인더 데이터 집합을 불러옵니다."
   ]
  },
  {
   "cell_type": "code",
   "execution_count": 1,
   "id": "declared-property",
   "metadata": {},
   "outputs": [],
   "source": [
    "import pandas as pd\n",
    "df = pd.read_csv('./data/gapminder.tsv', sep='\\t')"
   ]
  },
  {
   "cell_type": "markdown",
   "id": "returning-appendix",
   "metadata": {},
   "source": [
    "#### 2.\n",
    "\n",
    "다음은 yrar 열을 기준으로 데이터를 그룹화한 다음 lifeExp 열의 평균을 구한 것입니다."
   ]
  },
  {
   "cell_type": "code",
   "execution_count": 2,
   "id": "magnetic-remedy",
   "metadata": {},
   "outputs": [
    {
     "name": "stdout",
     "output_type": "stream",
     "text": [
      "year\n",
      "1952    49.057620\n",
      "1957    51.507401\n",
      "1962    53.609249\n",
      "1967    55.678290\n",
      "1972    57.647386\n",
      "1977    59.570157\n",
      "1982    61.533197\n",
      "1987    63.212613\n",
      "1992    64.160338\n",
      "1997    65.014676\n",
      "2002    65.694923\n",
      "2007    67.007423\n",
      "Name: lifeExp, dtype: float64\n"
     ]
    }
   ],
   "source": [
    "avg_life_exp_by_year = df.groupby('year').lifeExp.mean()\n",
    "print(avg_life_exp_by_year)"
   ]
  },
  {
   "cell_type": "markdown",
   "id": "global-thumb",
   "metadata": {},
   "source": [
    "#### 븐할 - 반영 -결합 과정 살펴보기 - groupby 메서드\n",
    "\n",
    "앞으로 groupby 메서드를 사용해 lifeExp 열의 연도별 평균값을 구했습니다. 그러면 실제로 groupby 메서드는 어떤 과정을 통해 데이터를 집계할까요? groupby 메서드를 자체를 분해하여 살펴보는 것은 불가능하기 때문에 비슷한 연산을 수행하는 메서드를 순서대로 실행하며 알아보겠습니다.\n",
    "\n",
    "#### 분할-반영-결합 과정 살펴보기\n",
    "\n",
    "#### 1.\n",
    "\n",
    "실제로 groupby 메서드에 life 열을 전달하면 가장 먼저 연도별로 데이터를 나누는 과정이 진행됩니다. 다음은 year 열의 데이터를 중복 없이 추출한 것입니다. groupby 메서드에 열이름을 전달하면 이런 '분할' 작업이 먼저 일어난다고 이해하세요."
   ]
  },
  {
   "cell_type": "code",
   "execution_count": 3,
   "id": "completed-binding",
   "metadata": {},
   "outputs": [
    {
     "name": "stdout",
     "output_type": "stream",
     "text": [
      "[1952 1957 1962 1967 1972 1977 1982 1987 1992 1997 2002 2007]\n"
     ]
    }
   ],
   "source": [
    "years = df.year.unique()\n",
    "print(years)"
   ]
  },
  {
   "cell_type": "markdown",
   "id": "special-count",
   "metadata": {},
   "source": [
    "#### 2.\n",
    "\n",
    "그런 다음에는 연도별로 평균값을 구합니다. 그러려면 일단 각 연도별로 데이터를 추출해야겠죠? 다음은 1952년의 데이터를 추출한 것입니다. 이 과정을 '반영' 작업의 한 부분이라고 이해하세요."
   ]
  },
  {
   "cell_type": "code",
   "execution_count": 4,
   "id": "attractive-stranger",
   "metadata": {},
   "outputs": [
    {
     "name": "stdout",
     "output_type": "stream",
     "text": [
      "        country continent  year  lifeExp       pop    gdpPercap\n",
      "0   Afghanistan      Asia  1952   28.801   8425333   779.445314\n",
      "12      Albania    Europe  1952   55.230   1282697  1601.056136\n",
      "24      Algeria    Africa  1952   43.077   9279525  2449.008185\n",
      "36       Angola    Africa  1952   30.015   4232095  3520.610273\n",
      "48    Argentina  Americas  1952   62.485  17876956  5911.315053\n"
     ]
    }
   ],
   "source": [
    "y1952 = df.loc[df.year == 1952, :]\n",
    "print(y1952.head())"
   ]
  },
  {
   "cell_type": "markdown",
   "id": "computational-vertex",
   "metadata": {},
   "source": [
    "### 3.\n",
    "\n",
    "아직 lifeExp 열의 평균값을 구하지 않았습니다. 다음은 과정2에서 추출한 1952년의 데이터에서 lifeExp 열의 평균값을 구한 것입니다. 이 과정도'반영' 작업의 한 부분입니다."
   ]
  },
  {
   "cell_type": "code",
   "execution_count": 5,
   "id": "otherwise-sleep",
   "metadata": {},
   "outputs": [
    {
     "name": "stdout",
     "output_type": "stream",
     "text": [
      "49.057619718309866\n"
     ]
    }
   ],
   "source": [
    "y1952_mean = y1952.lifeExp.mean()\n",
    "print(y1952_mean)"
   ]
  },
  {
   "cell_type": "markdown",
   "id": "unusual-conflict",
   "metadata": {},
   "source": [
    "#### 4. \n",
    "\n",
    "과정 2~3을 반복하여 남은 연도의 평균값을 구하면 비소로 '반영' 작업이 끝납니다."
   ]
  },
  {
   "cell_type": "code",
   "execution_count": 9,
   "id": "narrative-burns",
   "metadata": {},
   "outputs": [
    {
     "name": "stdout",
     "output_type": "stream",
     "text": [
      "51.50740112676056\n",
      "53.609249014084504\n",
      "67.00742253521126\n"
     ]
    }
   ],
   "source": [
    "y1957 = df.loc[df.year == 1957, :]\n",
    "y1957_mean = y1957.lifeExp.mean()\n",
    "print(y1957_mean)\n",
    "\n",
    "y1962 = df.loc[df.year == 1962, :] \n",
    "y1962_mean = y1962.lifeExp.mean( )\n",
    "print(y1962_mean)\n",
    "\n",
    "y2007 = df.loc[df.year == 2007, :] \n",
    "y2007_mean = y2007.lifeExp.mean( )\n",
    "print(y2007_mean)"
   ]
  },
  {
   "cell_type": "markdown",
   "id": "miniature-house",
   "metadata": {},
   "source": [
    "#### 5.\n",
    "\n",
    "마지막으로 연도별로 계산하 lifeExp의 평균값을 합칩니다. 바로 이 과정이 '결합' 작업입니다."
   ]
  },
  {
   "cell_type": "code",
   "execution_count": 10,
   "id": "monetary-wrist",
   "metadata": {},
   "outputs": [
    {
     "name": "stdout",
     "output_type": "stream",
     "text": [
      "   year           \n",
      "0  1952  49.057620\n",
      "1  1957  51.507401\n",
      "2  1962  53.609249\n",
      "3  2007  67.007423\n"
     ]
    }
   ],
   "source": [
    "df2 = pd.DataFrame({\"year\":[1952, 1957, 1962, 2007], \n",
    "                   \"\":[y1952_mean, y1957_mean, y1962_mean, y2007_mean]})\n",
    "print(df2)"
   ]
  },
  {
   "cell_type": "markdown",
   "id": "round-period",
   "metadata": {},
   "source": [
    "#### groupby 메서드와 함께 사용하는 집계 메서드\n",
    "\n",
    "다음은 집계 메서드를 정리한 표입니다. 이후에 수행할 실습에서 자주등장하는 메서드이니 미리 읽어보고 넘어가는 것이 좋습니다."
   ]
  },
  {
   "cell_type": "markdown",
   "id": "optional-hindu",
   "metadata": {},
   "source": [
    "### 집계 메서드\n",
    "\n",
    "- count : 누락값을 제외한 데이터 수를 변환\n",
    "- size  : 누락값을 포함한 데이터 수를 반환\n",
    "- mean : 평균값 반환\n",
    "- std : 표준편차 반환\n",
    "- min : 최솟값 반환\n",
    "- quantile(q=0.25) :백분위수 25%\n",
    "- quantile(q=0.50) : 백분위수 50%\n",
    "- quantile(q=0.75) : 백분위수 75%\n",
    "- max : 최댓값 반환\n",
    "- sum : 전체 합 반환\n",
    "- var : 분산 반환\n",
    "- sem : 평균의 표준편차 반환\n",
    "- describe : 데이터 수, 평균, 표준편차, 최소값, 백분위수(25,50,75%), 최댓값을 모두 반환\n",
    "- first : 첫 번째 행 반환\n",
    "- last : 마지막 행 반환\n",
    "- nth : n 번째 행 반환"
   ]
  },
  {
   "cell_type": "markdown",
   "id": "stunning-addiction",
   "metadata": {},
   "source": [
    "#### agg 메서드로 사용자 함수와 groupby 메서드 조합하기\n",
    "\n",
    "라이브러리에서 제공하는 집계 메서드로 원하는 값을 계산할 수 없는 경우에는 직접 함수를 만들어서 사용해야 합니다. 이번에는 사용자 함수와 groupby 메서드를 조합해서 사용해 보겠습니다. 사용자 함수와 groupby 메서드를 조합하려면 agg 메서드를 이용해야 합니다."
   ]
  },
  {
   "cell_type": "markdown",
   "id": "impaired-catalyst",
   "metadata": {},
   "source": [
    "#### 평균값을 구하는 사용자 함수와 groupby 메서드\n",
    "\n",
    "#### 1.\n",
    "\n",
    "다음은 입력바은 열의 평균값을 구하는 함수입니다."
   ]
  },
  {
   "cell_type": "code",
   "execution_count": 11,
   "id": "single-republican",
   "metadata": {},
   "outputs": [],
   "source": [
    "def my_mean(values):\n",
    "    n = len(values)\n",
    "    sum = 0\n",
    "    for value in values:\n",
    "        sum += value\n",
    "        \n",
    "        return sum / n"
   ]
  },
  {
   "cell_type": "markdown",
   "id": "voluntary-diameter",
   "metadata": {},
   "source": [
    "#### 2.\n",
    "\n",
    "다음은 과정 1에서 만든 함수를 groupby 메서드와 조합하기 위해 agg 메서드를 사용한 것입니다. 결과를 보면 mean 메서드를 사용하여 얻은 값과 동일하다는 것을 알 수 있습니다."
   ]
  },
  {
   "cell_type": "code",
   "execution_count": 12,
   "id": "likely-musician",
   "metadata": {},
   "outputs": [
    {
     "name": "stdout",
     "output_type": "stream",
     "text": [
      "year\n",
      "1952    0.202824\n",
      "1957    0.213606\n",
      "1962    0.225331\n",
      "1967    0.239577\n",
      "1972    0.254141\n",
      "1977    0.270690\n",
      "1982    0.280662\n",
      "1987    0.287479\n",
      "1992    0.293479\n",
      "1997    0.294106\n",
      "2002    0.296683\n",
      "2007    0.308648\n",
      "Name: lifeExp, dtype: float64\n"
     ]
    }
   ],
   "source": [
    "agg_my_mean = df.groupby('year').lifeExp.agg(my_mean)\n",
    "print(agg_my_mean)"
   ]
  },
  {
   "cell_type": "markdown",
   "id": "coral-branch",
   "metadata": {},
   "source": [
    "#### 2개의 인잣값을 받아 처리하는 사용자 함수 groupby 메서드\n",
    "\n",
    "#### 1. \n",
    "\n",
    "이번에는 2개의 인잣값을 받아 처리하는 사용자 정의 함수(my_mean_diff)를 만들어 보겠습니다. 다음은 첫 번째 인자로 받은 열의 평균값을 구하여 두 번째 인자로 받은 값과의 차이를 계산한 다음 반환하는 함수입니다."
   ]
  },
  {
   "cell_type": "code",
   "execution_count": 13,
   "id": "affecting-medication",
   "metadata": {},
   "outputs": [],
   "source": [
    "def my_mean_diff(values, diff_value):\n",
    "    n = len(values)\n",
    "    sum = 0\n",
    "    for value in values:\n",
    "        sum += value\n",
    "        mean = sum / n\n",
    "        return mean - diff_value"
   ]
  },
  {
   "cell_type": "markdown",
   "id": "strong-coast",
   "metadata": {},
   "source": [
    "#### 2.\n",
    "\n",
    "다음은 연도별 평균 수명에서 전체 평균 수명을 뺀 값을 구한 것입니다. agg 메서드의 첫 번째 인자에 my_mean_diff 함수를 전달하고 두 번째 인자에 전체 평균 수명값을 전달 했습니다."
   ]
  },
  {
   "cell_type": "code",
   "execution_count": 14,
   "id": "unknown-indian",
   "metadata": {},
   "outputs": [
    {
     "name": "stdout",
     "output_type": "stream",
     "text": [
      "59.474439366197174\n"
     ]
    }
   ],
   "source": [
    "global_mean = df.lifeExp.mean()\n",
    "print(global_mean)"
   ]
  },
  {
   "cell_type": "code",
   "execution_count": 15,
   "id": "material-coffee",
   "metadata": {},
   "outputs": [
    {
     "name": "stdout",
     "output_type": "stream",
     "text": [
      "year\n",
      "1952   -59.271615\n",
      "1957   -59.260834\n",
      "1962   -59.249108\n",
      "1967   -59.234862\n",
      "1972   -59.220299\n",
      "1977   -59.203749\n",
      "1982   -59.193777\n",
      "1987   -59.186960\n",
      "1992   -59.180960\n",
      "1997   -59.180334\n",
      "2002   -59.177756\n",
      "2007   -59.165791\n",
      "Name: lifeExp, dtype: float64\n"
     ]
    }
   ],
   "source": [
    "agg_mean_diff = df.groupby('year').lifeExp.agg(my_mean_diff, diff_value = global_mean)\n",
    "print(agg_mean_diff)"
   ]
  },
  {
   "cell_type": "markdown",
   "id": "invisible-happening",
   "metadata": {},
   "source": [
    "#### 여러 개의 집계 메서드 한 번에 사용하기\n",
    "\n",
    "여러 개의 집계 메서드를 한 번에 사용하고 싶다면 어떻게 해야 할까요? 집계 메서드를 리스트나 딕셔너리에 담아 agg 메서드에 전달하면 됩니다."
   ]
  },
  {
   "cell_type": "markdown",
   "id": "literary-stephen",
   "metadata": {},
   "source": [
    "#### 집계 메서드를 리스트, 딕셔너리에 담아 전달하기\n",
    "\n",
    "#### 1.\n",
    "\n",
    "다음은 연도별로 그룹화한 lifeExp 열의 0이 아닌 값의 개수, 평균 표준편차를 한 번에 계산하여 출력한 것입니다. 넘파이 메서드인 count_nonzero, mean, std를 리스트에 담아 agg 메서드에 전달했습니다."
   ]
  },
  {
   "cell_type": "code",
   "execution_count": 16,
   "id": "historical-rapid",
   "metadata": {},
   "outputs": [
    {
     "name": "stdout",
     "output_type": "stream",
     "text": [
      "      count_nonzero       mean        std\n",
      "year                                     \n",
      "1952          142.0  49.057620  12.225956\n",
      "1957          142.0  51.507401  12.231286\n",
      "1962          142.0  53.609249  12.097245\n",
      "1967          142.0  55.678290  11.718858\n",
      "1972          142.0  57.647386  11.381953\n",
      "1977          142.0  59.570157  11.227229\n",
      "1982          142.0  61.533197  10.770618\n",
      "1987          142.0  63.212613  10.556285\n",
      "1992          142.0  64.160338  11.227380\n",
      "1997          142.0  65.014676  11.559439\n",
      "2002          142.0  65.694923  12.279823\n",
      "2007          142.0  67.007423  12.073021\n"
     ]
    }
   ],
   "source": [
    "import numpy as np\n",
    "gdf = df.groupby('year').lifeExp.agg([np.count_nonzero, np.mean, np.std])\n",
    "print(gdf)"
   ]
  },
  {
   "cell_type": "markdown",
   "id": "invisible-remains",
   "metadata": {},
   "source": [
    "#### 2.\n",
    "\n",
    "이번에는 집계 메서드를 딕셔너리에 담아 agg 메서드에 전달해 보겠습니다. 딕셔너리의 키로 집계 메서드를 적용할 열 이름을 전달하고 딕셔너리의 값으로 집계 메서드를 전달 하면됩니다."
   ]
  },
  {
   "cell_type": "code",
   "execution_count": 20,
   "id": "toxic-steel",
   "metadata": {},
   "outputs": [
    {
     "name": "stdout",
     "output_type": "stream",
     "text": [
      "        lifeExp         pop    gdpPercap\n",
      "year                                    \n",
      "1952  49.057620   3943953.0  1968.528344\n",
      "1957  51.507401   4282942.0  2173.220291\n",
      "1962  53.609249   4686039.5  2335.439533\n",
      "1967  55.678290   5170175.5  2678.334741\n",
      "1972  57.647386   5877996.5  3339.129407\n",
      "1977  59.570157   6404036.5  3798.609244\n",
      "1982  61.533197   7007320.0  4216.228428\n",
      "1987  63.212613   7774861.5  4280.300366\n",
      "1992  64.160338   8688686.5  4386.085502\n",
      "1997  65.014676   9735063.5  4781.825478\n",
      "2002  65.694923  10372918.5  5319.804524\n",
      "2007  67.007423  10517531.0  6124.371109\n"
     ]
    }
   ],
   "source": [
    "gdf_dict = df.groupby('year').agg({'lifeExp':'mean', 'pop':'median', 'gdpPercap':'median'})\n",
    "print(gdf_dict)"
   ]
  },
  {
   "cell_type": "code",
   "execution_count": null,
   "id": "intellectual-african",
   "metadata": {},
   "outputs": [],
   "source": []
  }
 ],
 "metadata": {
  "kernelspec": {
   "display_name": "Python 3",
   "language": "python",
   "name": "python3"
  },
  "language_info": {
   "codemirror_mode": {
    "name": "ipython",
    "version": 3
   },
   "file_extension": ".py",
   "mimetype": "text/x-python",
   "name": "python",
   "nbconvert_exporter": "python",
   "pygments_lexer": "ipython3",
   "version": "3.6.9"
  }
 },
 "nbformat": 4,
 "nbformat_minor": 5
}

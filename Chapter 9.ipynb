{
 "cells": [
  {
   "cell_type": "markdown",
   "id": "aging-ireland",
   "metadata": {},
   "source": [
    "# 9 문자열 처리하기\n",
    "\n",
    "판다스에서 다루는 데이터의 대부분은 문자열로 저장되어 있습니다. 어떤 경우에는 정수,실수와 같은 숫자 데이터도 문자열로 저장됩니다. 그만큼 우리 주변에는 문자열로 저장된 데이터가 많습니다. 그러니 유능한 데이터 분석가가 되려면 문자열도 잘 처리할 수 있어야 합니다. 이 장에서는 판다스가 아니라 파이썬으로 문자열을 처리하는 방법에 대해 알아봅니다. 그리고 문자열 처리가 판다스, 데이터 분석과 어떤 상관이 있는지도 함께 알아보겠습니다.\n",
    "\n",
    "## 9-1 문자열 다루기\n",
    "\n",
    "## 9-2 문자열 메서드\n",
    "\n",
    "## 9-3 문자열 포매팅\n",
    "\n",
    "## 9-4 정규식으로 문자열 처리에 날개 달기\n",
    "\n",
    "\n",
    "# 9-1 문자열 다루기\n",
    "\n",
    "### 파이썬과 문자열\n",
    "\n",
    "문자열은 작은따옴표나 큰따옴표로 감싸서 만듭니다. 다음은 작은따옴표로 grail, a scratch라는 문자열 데이터를 만들어 변수 word,sent에 저장한 것입니다.\n"
   ]
  },
  {
   "cell_type": "code",
   "execution_count": 5,
   "id": "rough-mills",
   "metadata": {},
   "outputs": [
    {
     "name": "stdout",
     "output_type": "stream",
     "text": [
      "grail\n",
      "g\n",
      "g\n"
     ]
    }
   ],
   "source": [
    "word = 'grail'\n",
    "sent = 'a scratch'\n",
    "\n",
    "print(word)\n",
    "print(word[0])\n",
    "print(word[-5])"
   ]
  },
  {
   "cell_type": "markdown",
   "id": "judicial-addition",
   "metadata": {},
   "source": [
    "### 인덱스로 문자열 추출하기\n",
    "\n",
    "데이터프레임에서 인덱스를 이용하여 원하는 데이터를 추출했던 것을 기억하나요? 문자열도 인덱스를 사용하여 추출할 수 있습니다. 문자는 길이가 1인 문자열로 생각하면 됩니다. 다음은 문자열과 인덱스를 함께 나타낸 표입니다. 간단하게 살펴보고 바로 실습으로 넘어갈까요?"
   ]
  },
  {
   "cell_type": "markdown",
   "id": "retired-enforcement",
   "metadata": {},
   "source": [
    "### 문자열 추출하기\n",
    "\n",
    "#### 1.\n",
    "\n",
    "각 문자열의 첫 번째 문자는 오른쪽과 같은 방법으로 추출합니다.\n"
   ]
  },
  {
   "cell_type": "code",
   "execution_count": 6,
   "id": "organic-clerk",
   "metadata": {},
   "outputs": [
    {
     "name": "stdout",
     "output_type": "stream",
     "text": [
      "g\n",
      "a\n"
     ]
    }
   ],
   "source": [
    "word = 'grail'\n",
    "sent = 'a scratch'\n",
    "\n",
    "print(word[0])\n",
    "print(sent[0])"
   ]
  },
  {
   "cell_type": "markdown",
   "id": "driving-configuration",
   "metadata": {},
   "source": [
    "#### 2.\n",
    "\n",
    "인덱스 슬라이싱을 사용하면 여러 개의 문자를 한 번에 추출할 수 있습니다. 오른쪽은 인덱스 슬라이싱을 사용하여 0~2번째 인덱스의 문자를 추출한 것입니다. 이때 대괄호에 지정한 왼쪽 범위(0)는 포함하고 오른쪽 범위(3)는 포함하지 않습니다. 즉, 인덱스가 0,1,2 인 문자를 추출합니다.\n",
    "\n"
   ]
  },
  {
   "cell_type": "code",
   "execution_count": 7,
   "id": "micro-tumor",
   "metadata": {},
   "outputs": [
    {
     "name": "stdout",
     "output_type": "stream",
     "text": [
      "gra\n"
     ]
    }
   ],
   "source": [
    "print(word[0:3])"
   ]
  },
  {
   "cell_type": "markdown",
   "id": "eligible-pepper",
   "metadata": {},
   "source": [
    "#### 3.\n",
    "\n",
    "음수를 사용해도 문자열을 추출할 수 있습니다. 만약 인덱스를 -1로 지정하여 문자열을 추출하면 마지막 문자가 추출됩니다. 오른쪽은 다양한 방법으로 음수 범위의 인덱스 슬라이싱을 한 것입니다."
   ]
  },
  {
   "cell_type": "code",
   "execution_count": 8,
   "id": "accurate-straight",
   "metadata": {},
   "outputs": [
    {
     "name": "stdout",
     "output_type": "stream",
     "text": [
      "h\n"
     ]
    }
   ],
   "source": [
    "print(sent[-1])"
   ]
  },
  {
   "cell_type": "code",
   "execution_count": 9,
   "id": "pregnant-sixth",
   "metadata": {},
   "outputs": [
    {
     "name": "stdout",
     "output_type": "stream",
     "text": [
      "a\n"
     ]
    }
   ],
   "source": [
    "print(sent[-9:-8])"
   ]
  },
  {
   "cell_type": "code",
   "execution_count": 10,
   "id": "experimental-bristol",
   "metadata": {},
   "outputs": [
    {
     "name": "stdout",
     "output_type": "stream",
     "text": [
      "a\n"
     ]
    }
   ],
   "source": [
    "print(sent[0:-8])"
   ]
  },
  {
   "cell_type": "markdown",
   "id": "ongoing-marina",
   "metadata": {},
   "source": [
    "### 전체 문자열 추출하기\n",
    "\n",
    "만약 인덱스 슬라이싱을 할 때 문자열 범위를 왼쪽 범위나 오른쪽 범위 중 하나만 지정하면 어떻게 될까요? 왼쪽 범위가 비어 있으면 문자열의 첫 번째 위치부터 문자열을 추출합니다. 반대로 오른쪽 범위가 비어 있으면 문자열의 마지막 위치까지 문자열을 추출합니다. 즉, word[0:3]과 word[:3]은 같은 범위의 문자열을 추출합니다. 이런 성질을 이용하여 전체 문자열을 추출해 보겠습니다."
   ]
  },
  {
   "cell_type": "markdown",
   "id": "funny-zoning",
   "metadata": {},
   "source": [
    "### 왼쪽이나 오른쪽 범위를 지정하지 않고 문자열 추출하기\n",
    "\n",
    "#### 1.\n",
    "왼쪽 범위를 비우고 문자열을 추출하면 오른쪽과 같이 됩니다."
   ]
  },
  {
   "cell_type": "code",
   "execution_count": 11,
   "id": "loved-drink",
   "metadata": {},
   "outputs": [
    {
     "data": {
      "text/plain": [
       "'gra'"
      ]
     },
     "execution_count": 11,
     "metadata": {},
     "output_type": "execute_result"
    }
   ],
   "source": [
    "print\n",
    "(word[0:3])"
   ]
  },
  {
   "cell_type": "code",
   "execution_count": 12,
   "id": "christian-cameroon",
   "metadata": {},
   "outputs": [
    {
     "name": "stdout",
     "output_type": "stream",
     "text": [
      "gra\n"
     ]
    }
   ],
   "source": [
    "print(word[:3])"
   ]
  },
  {
   "cell_type": "markdown",
   "id": "beautiful-utility",
   "metadata": {},
   "source": [
    "#### 2.\n",
    "\n",
    "만약 오른쪽 범위를 비우면 문자열의 마지막 위치까지 문자열을 추출합니다."
   ]
  },
  {
   "cell_type": "code",
   "execution_count": 13,
   "id": "familiar-guitar",
   "metadata": {},
   "outputs": [
    {
     "name": "stdout",
     "output_type": "stream",
     "text": [
      "scratch\n"
     ]
    }
   ],
   "source": [
    "print(sent[2:len(sent)])"
   ]
  },
  {
   "cell_type": "code",
   "execution_count": 14,
   "id": "stuck-error",
   "metadata": {},
   "outputs": [
    {
     "name": "stdout",
     "output_type": "stream",
     "text": [
      "scratch\n"
     ]
    }
   ],
   "source": [
    "print(sent[2: ])"
   ]
  },
  {
   "cell_type": "markdown",
   "id": "informational-nicaragua",
   "metadata": {},
   "source": [
    "#### 3.\n",
    "\n",
    "양쪽을 모두 비우면 전체 문자열을 추출합니다."
   ]
  },
  {
   "cell_type": "code",
   "execution_count": 15,
   "id": "vocational-runner",
   "metadata": {},
   "outputs": [
    {
     "name": "stdout",
     "output_type": "stream",
     "text": [
      "a scratch\n"
     ]
    }
   ],
   "source": [
    "print(sent[ : ])"
   ]
  },
  {
   "cell_type": "markdown",
   "id": "exceptional-march",
   "metadata": {},
   "source": [
    "#### 4.\n",
    "\n",
    "만약 문자열을 일정한 간격으로 건너뛰며 추출해야 한다면 콜론(:)을 하나 더 추가하여 추출 간격을 지정하면됩니다. 오른쪽 전체 문자열을 추출하되 다음 추출 문자는 자신을 포함하여 거리가 2인 인덱스의 문자를 추출한 것입니다.(1칸씩 건너뛰며 추출합니다.)"
   ]
  },
  {
   "cell_type": "code",
   "execution_count": 16,
   "id": "pressing-brand",
   "metadata": {},
   "outputs": [
    {
     "name": "stdout",
     "output_type": "stream",
     "text": [
      "asrth\n"
     ]
    }
   ],
   "source": [
    "print(sent[::2])"
   ]
  },
  {
   "cell_type": "markdown",
   "id": "framed-watershed",
   "metadata": {},
   "source": [
    "# 9-2 문자열 메서드\n",
    "\n",
    "지금까지 인덱스 슬라이싱으로 문자열을 추출하는 방법을 알아보았습니다. 그런데 문자열이 너무 길어서 내가 원하는 문자가 몇 번째 인덱스에 있는지 파악하기 어렵거나 문자열에 포함된 소문자를 모두 대문자로 바꾸고 싶다면 어떻게 해야 할까요? 이런 경우에는 문자열 메서드를 사용하면 됩니다. 자주 사용하는 문자열 메서드와 간단한 실습 코드를 다음 표에 정리했습니다. 문자열 메서드 표 아래에 있는 실습 코드를 정리한 표도 함께 읽어보세요."
   ]
  },
  {
   "cell_type": "markdown",
   "id": "increased-farming",
   "metadata": {},
   "source": [
    "|메서드|설명|\n",
    "|:-:|:-:|\n",
    "|capitalize|첫 문자를 대문자로 변환|\n",
    "|count|문자열의 개수를 반환|\n",
    "|startswith|문자열이 특정 문자로 시작하면 참|\n",
    "|endswith|문자열이 특정 문자로 끝나면 참|\n",
    "|find|찾을 문자열의 첫 번째 인덱스를 반환. 실패시 -1 반환|\n",
    "|index|find 메서드와 같은 역할을 수행하지만 실패시 ValueError를 반환|\n",
    "|isalpha|모든 문자가 알파벳이면 참|\n",
    "|isdecimal|모든 문자가 숫자면 참|\n",
    "|isalnum|모든 문자가 알파벳이거나 숫자면 참|\n",
    "|lower|모든 문자를 소문자로 변환|\n",
    "|upper|모든 문자를 대문자로 변환|\n",
    "|replace|문자열의 문자를 다른 문자로 교체 |\n",
    "|strip|문자열의 맨 앞과 맨 뒤에 잇는 빈 칸을 제거|\n",
    "|split|구분자를 지정하여 문자열을 나누고, 나눈 값들의 리스트를 반환|\n",
    "|partition|split 메서드와 비슷한 역할을 수행하지만 구분자도 반환|\n",
    "|center|지정한 너비로 문자열을 늘이고 문자열을 가운데 정렬|\n",
    "|zfill|문자열의 빈 칸을 '0'으로 채운다.|\n"
   ]
  },
  {
   "cell_type": "markdown",
   "id": "liberal-vanilla",
   "metadata": {},
   "source": [
    "#### 파이썬 문자열 메서드 - 실습코드\n",
    "\n"
   ]
  },
  {
   "cell_type": "code",
   "execution_count": 18,
   "id": "drawn-postage",
   "metadata": {},
   "outputs": [
    {
     "data": {
      "text/plain": [
       "'Black knight'"
      ]
     },
     "execution_count": 18,
     "metadata": {},
     "output_type": "execute_result"
    }
   ],
   "source": [
    "\"black Knight\".capitalize()"
   ]
  },
  {
   "cell_type": "code",
   "execution_count": 19,
   "id": "collective-camera",
   "metadata": {},
   "outputs": [
    {
     "data": {
      "text/plain": [
       "2"
      ]
     },
     "execution_count": 19,
     "metadata": {},
     "output_type": "execute_result"
    }
   ],
   "source": [
    "\"It's just a flesh wound!\".count('u')"
   ]
  },
  {
   "cell_type": "code",
   "execution_count": 21,
   "id": "improved-advertiser",
   "metadata": {},
   "outputs": [
    {
     "data": {
      "text/plain": [
       "True"
      ]
     },
     "execution_count": 21,
     "metadata": {},
     "output_type": "execute_result"
    }
   ],
   "source": [
    "\"Halt! who goes there?\".startswith('Halt')"
   ]
  },
  {
   "cell_type": "code",
   "execution_count": 22,
   "id": "prospective-official",
   "metadata": {},
   "outputs": [
    {
     "data": {
      "text/plain": [
       "True"
      ]
     },
     "execution_count": 22,
     "metadata": {},
     "output_type": "execute_result"
    }
   ],
   "source": [
    "\"coconut\".endswith('nut')"
   ]
  },
  {
   "cell_type": "code",
   "execution_count": 23,
   "id": "pleasant-dream",
   "metadata": {},
   "outputs": [
    {
     "data": {
      "text/plain": [
       "6"
      ]
     },
     "execution_count": 23,
     "metadata": {},
     "output_type": "execute_result"
    }
   ],
   "source": [
    "\"It's just a flesh wound!\".find('u')"
   ]
  },
  {
   "cell_type": "code",
   "execution_count": 24,
   "id": "respected-oracle",
   "metadata": {},
   "outputs": [
    {
     "ename": "ValueError",
     "evalue": "substring not found",
     "output_type": "error",
     "traceback": [
      "\u001b[0;31m---------------------------------------------------------------------------\u001b[0m",
      "\u001b[0;31mValueError\u001b[0m                                Traceback (most recent call last)",
      "\u001b[0;32m<ipython-input-24-d01048c02f55>\u001b[0m in \u001b[0;36m<module>\u001b[0;34m\u001b[0m\n\u001b[0;32m----> 1\u001b[0;31m \u001b[0;34m\"It's just a flesh woind!\"\u001b[0m\u001b[0;34m.\u001b[0m\u001b[0mindex\u001b[0m\u001b[0;34m(\u001b[0m\u001b[0;34m'scratch'\u001b[0m\u001b[0;34m)\u001b[0m\u001b[0;34m\u001b[0m\u001b[0;34m\u001b[0m\u001b[0m\n\u001b[0m",
      "\u001b[0;31mValueError\u001b[0m: substring not found"
     ]
    }
   ],
   "source": [
    "\"It's just a flesh woind!\".index('scratch')"
   ]
  },
  {
   "cell_type": "code",
   "execution_count": 25,
   "id": "intellectual-receiver",
   "metadata": {},
   "outputs": [
    {
     "data": {
      "text/plain": [
       "False"
      ]
     },
     "execution_count": 25,
     "metadata": {},
     "output_type": "execute_result"
    }
   ],
   "source": [
    "\"old woman\".isalpha()"
   ]
  },
  {
   "cell_type": "code",
   "execution_count": 26,
   "id": "freelance-garlic",
   "metadata": {},
   "outputs": [
    {
     "data": {
      "text/plain": [
       "True"
      ]
     },
     "execution_count": 26,
     "metadata": {},
     "output_type": "execute_result"
    }
   ],
   "source": [
    "\"37\".isdecimal()"
   ]
  },
  {
   "cell_type": "code",
   "execution_count": 27,
   "id": "reported-familiar",
   "metadata": {},
   "outputs": [
    {
     "data": {
      "text/plain": [
       "False"
      ]
     },
     "execution_count": 27,
     "metadata": {},
     "output_type": "execute_result"
    }
   ],
   "source": [
    "\"I'm 37\".isalnum()"
   ]
  },
  {
   "cell_type": "code",
   "execution_count": 28,
   "id": "metropolitan-turtle",
   "metadata": {},
   "outputs": [
    {
     "data": {
      "text/plain": [
       "'black knight'"
      ]
     },
     "execution_count": 28,
     "metadata": {},
     "output_type": "execute_result"
    }
   ],
   "source": [
    "\"Black Knight\".lower()"
   ]
  },
  {
   "cell_type": "code",
   "execution_count": 29,
   "id": "secret-italy",
   "metadata": {},
   "outputs": [
    {
     "data": {
      "text/plain": [
       "'BLACK KNIGHT'"
      ]
     },
     "execution_count": 29,
     "metadata": {},
     "output_type": "execute_result"
    }
   ],
   "source": [
    "\"Black Knight\".upper()"
   ]
  },
  {
   "cell_type": "code",
   "execution_count": 31,
   "id": "ambient-winning",
   "metadata": {},
   "outputs": [
    {
     "data": {
      "text/plain": [
       "'scratch!'"
      ]
     },
     "execution_count": 31,
     "metadata": {},
     "output_type": "execute_result"
    }
   ],
   "source": [
    "\"flesh wound!\".replace('flesh wound', 'scratch')"
   ]
  },
  {
   "cell_type": "code",
   "execution_count": 33,
   "id": "committed-combination",
   "metadata": {},
   "outputs": [
    {
     "data": {
      "text/plain": [
       "\"I'm not dead.\""
      ]
     },
     "execution_count": 33,
     "metadata": {},
     "output_type": "execute_result"
    }
   ],
   "source": [
    "\"I'm not dead.\".strip()"
   ]
  },
  {
   "cell_type": "code",
   "execution_count": 37,
   "id": "dependent-document",
   "metadata": {},
   "outputs": [
    {
     "data": {
      "text/plain": [
       "['NI!', 'NI!', 'NI!', 'NI!']"
      ]
     },
     "execution_count": 37,
     "metadata": {},
     "output_type": "execute_result"
    }
   ],
   "source": [
    "\"NI! NI! NI! NI!\".split(sep=' ')"
   ]
  },
  {
   "cell_type": "code",
   "execution_count": 38,
   "id": "formal-charlotte",
   "metadata": {},
   "outputs": [
    {
     "data": {
      "text/plain": [
       "('3', ',', '4')"
      ]
     },
     "execution_count": 38,
     "metadata": {},
     "output_type": "execute_result"
    }
   ],
   "source": [
    "\"3,4\".partition(',')"
   ]
  },
  {
   "cell_type": "code",
   "execution_count": 39,
   "id": "minor-southeast",
   "metadata": {},
   "outputs": [
    {
     "data": {
      "text/plain": [
       "'   nine   '"
      ]
     },
     "execution_count": 39,
     "metadata": {},
     "output_type": "execute_result"
    }
   ],
   "source": [
    "\"nine\".center(10)"
   ]
  },
  {
   "cell_type": "code",
   "execution_count": 41,
   "id": "finite-aerospace",
   "metadata": {},
   "outputs": [
    {
     "data": {
      "text/plain": [
       "'00009'"
      ]
     },
     "execution_count": 41,
     "metadata": {},
     "output_type": "execute_result"
    }
   ],
   "source": [
    "\"9\".zfill(5)"
   ]
  },
  {
   "cell_type": "markdown",
   "id": "accredited-thickness",
   "metadata": {},
   "source": [
    "### join, splitlines, replace 메서드 실습하기\n",
    "\n",
    "#### 1. join 메서드\n",
    "\n",
    "join 메서드는 문자열을 연결하여 새로운 문자열을 반환하는 메서드입니다. 다음은 분리된 좌표 데이터(40,46,52.837..)를 합친 것입니다. 이때 join 메서드 앞에 문자(' ')를 지정하면 해당 문자를 단어 사이에 넣어 연결해 줍니다.\n"
   ]
  },
  {
   "cell_type": "code",
   "execution_count": 43,
   "id": "underlying-combine",
   "metadata": {},
   "outputs": [
    {
     "name": "stdout",
     "output_type": "stream",
     "text": [
      "40 46' 52.837\" N 73 58' 26.302\" W\n"
     ]
    }
   ],
   "source": [
    "d1 = '40'\n",
    "m1 = \"46'\"\n",
    "s1 = '52.837\"'\n",
    "u1 = 'N'\n",
    "\n",
    "d2 = '73'\n",
    "m2 = \"58'\"\n",
    "s2 = '26.302\"'\n",
    "u2 = 'W'\n",
    "\n",
    "coords = ' '.join([d1,m1,s1,u1,d2,m2,s2,u2])\n",
    "print(coords)"
   ]
  },
  {
   "cell_type": "markdown",
   "id": "drawn-floor",
   "metadata": {},
   "source": [
    "#### 2. splitlines 메서드\n",
    "\n",
    "이번에는 splitlines 메서드에 대해 알아볼까요? splitlines 메서드는 여러 행을 가진 문자열을 분리한 다음 리스트로 반환합니다. multi_str에 저장된 문자열을 splitlines 메서드로 분리하면 다음과 같이 됩니다."
   ]
  },
  {
   "cell_type": "code",
   "execution_count": 50,
   "id": "front-willow",
   "metadata": {},
   "outputs": [
    {
     "name": "stdout",
     "output_type": "stream",
     "text": [
      "Guard: What? Ridden on a horse?\n",
      "King Arthue : Yes!\n",
      "Guard : You're using coconuts!\n",
      "King Arthur : What?\n",
      "Guard : You've got ... coconut[s] and you're babgin' 'em together.\n"
     ]
    }
   ],
   "source": [
    "multi_str = \"\"\"Guard: What? Ridden on a horse?\n",
    "King Arthue : Yes!\n",
    "Guard : You're using coconuts!\n",
    "King Arthur : What?\n",
    "Guard : You've got ... coconut[s] and you're babgin' 'em together.\"\"\"\n",
    "\n",
    "print(multi_str)"
   ]
  },
  {
   "cell_type": "code",
   "execution_count": 51,
   "id": "blocked-irrigation",
   "metadata": {},
   "outputs": [
    {
     "name": "stdout",
     "output_type": "stream",
     "text": [
      "['Guard: What? Ridden on a horse?', 'King Arthue : Yes!', \"Guard : You're using coconuts!\", 'King Arthur : What?', \"Guard : You've got ... coconut[s] and you're babgin' 'em together.\"]\n"
     ]
    }
   ],
   "source": [
    "multi_str_split = multi_str.splitlines()\n",
    "print(multi_str_split)"
   ]
  },
  {
   "cell_type": "markdown",
   "id": "political-uniform",
   "metadata": {},
   "source": [
    "#### 3.\n",
    "\n",
    "인덱스 슬라이싱을 응용하면 특정 문자열만 가져올 수도 있습니다. 다음은 Guard의 대사만 가져온 것입니다."
   ]
  },
  {
   "cell_type": "code",
   "execution_count": 52,
   "id": "british-glossary",
   "metadata": {},
   "outputs": [
    {
     "name": "stdout",
     "output_type": "stream",
     "text": [
      "['Guard: What? Ridden on a horse?', \"Guard : You're using coconuts!\", \"Guard : You've got ... coconut[s] and you're babgin' 'em together.\"]\n"
     ]
    }
   ],
   "source": [
    "guard = multi_str_split[::2]\n",
    "print(guard)"
   ]
  },
  {
   "cell_type": "markdown",
   "id": "reported-toronto",
   "metadata": {},
   "source": [
    "#### 4.replace 메서드\n",
    "\n",
    "조금 더 나아가 볼까요? 만약 Guard의 대사에서 'Guard:'라는 문자열을 빼고 싶다면 어떻게 해야 할까요? 그럴 때는 문자열을 치환해 주는 replce메서드를 사용하면 됩니다. 다음과 같이 \"Guard: \"를 \"\"로 치환하여 Guard:를 없앴습니다."
   ]
  },
  {
   "cell_type": "code",
   "execution_count": 54,
   "id": "behavioral-honolulu",
   "metadata": {},
   "outputs": [
    {
     "name": "stdout",
     "output_type": "stream",
     "text": [
      "['What? Ridden on a horse?', \"Guard : You're using coconuts!\", \"Guard : You've got ... coconut[s] and you're babgin' 'em together.\"]\n"
     ]
    }
   ],
   "source": [
    "guard = multi_str.replace(\"Guard: \", \"\").splitlines()[::2]\n",
    "print(guard)"
   ]
  },
  {
   "cell_type": "markdown",
   "id": "challenging-assault",
   "metadata": {},
   "source": [
    "# 9-3 문자열 포매팅\n",
    "\n",
    "### 문자열 포매팅하기\n",
    "\n",
    "문자열 포매팅은 문자열을 편리하게 출력할 수 있게 해주는 기능입니다. 예를 들어 I can swim, I can fly, I can run 과 같은 문자열은 I can 이라는 문자열에 swim, run, fly와 같은 단어만 바꿔 넣어 출력하는 것이 더 편리합니다. 즉, 문자열 포매팅이란 출력할 문자열의 형식을 지정하거나 변수를 조합하여 출력하는 방법을 말합니다.\n",
    "\n",
    "#### 문자열 포매팅하기\n",
    "\n",
    "#### 1.\n",
    "\n",
    "다음과 같이 단어를 삽입할 위치를 {}로 지정하고 format 메서드에 원하는 단어를 전달하면 {}의 위치에 전달한 단어를 삽입해 출력합니다. 이때 {}를 플레이스 홀더라고 부릅니다."
   ]
  },
  {
   "cell_type": "code",
   "execution_count": 55,
   "id": "fewer-history",
   "metadata": {},
   "outputs": [
    {
     "name": "stdout",
     "output_type": "stream",
     "text": [
      "It's just a flesh wound!\n"
     ]
    }
   ],
   "source": [
    "var = 'flesh wound'\n",
    "s = \"It's just a {}!\"\n",
    "\n",
    "print(s.format(var))\n"
   ]
  },
  {
   "cell_type": "code",
   "execution_count": 56,
   "id": "humanitarian-diving",
   "metadata": {},
   "outputs": [
    {
     "name": "stdout",
     "output_type": "stream",
     "text": [
      "It's just a scratch!\n"
     ]
    }
   ],
   "source": [
    "print(s.format('scratch'))"
   ]
  },
  {
   "cell_type": "markdown",
   "id": "smart-honolulu",
   "metadata": {},
   "source": [
    "#### 2.\n",
    "\n",
    "플레이스 홀더는 여러 번 사용해도 됩니다. 하지만 여러 단어를 전달할 때는 어떻게 해야 할까요? format 메서드에 여러 단어를 전달하려면 인덱스 개념을 응용하면 됩니다. 다음은 1개의 단어만 사용합니다. 따라서 인덱스를 0으로 지정한 플레이스 홀더를 사용했습니다."
   ]
  },
  {
   "cell_type": "code",
   "execution_count": 58,
   "id": "selective-shark",
   "metadata": {},
   "outputs": [
    {
     "name": "stdout",
     "output_type": "stream",
     "text": [
      "Black Knight: 'This but a scratch.\n",
      "King Arthur: A scratch? Yours arm's off!\n"
     ]
    }
   ],
   "source": [
    "s = \"\"\"Black Knight: 'This but a {0}.\n",
    "King Arthur: A {0}? Yours arm's off!\"\"\"\n",
    "\n",
    "print(s.format('scratch'))"
   ]
  },
  {
   "cell_type": "markdown",
   "id": "proved-playlist",
   "metadata": {},
   "source": [
    "#### 3.\n",
    "\n",
    "플레이스 홀더에는 변수를 지정해도 됩니다. 단, format 메서드에 전달하는 문자열도 변수에 담아 전달해야 합니다."
   ]
  },
  {
   "cell_type": "code",
   "execution_count": 59,
   "id": "underlying-miracle",
   "metadata": {},
   "outputs": [
    {
     "name": "stdout",
     "output_type": "stream",
     "text": [
      "Hayden Planetarium Coordinates: 40.7815 N,73.9733 W\n"
     ]
    }
   ],
   "source": [
    "s = 'Hayden Planetarium Coordinates: {lat},{lon}'\n",
    "print(s.format(lat='40.7815 N', lon='73.9733 W'))"
   ]
  },
  {
   "cell_type": "markdown",
   "id": "personalized-mistake",
   "metadata": {},
   "source": [
    "### 숫자 데이터 포매팅하기\n",
    "\n",
    "이번에는 숫자 데이터 포매팅에 대해 알아보겠습니다. 숫자 데이터 포매팅을 사용하면 실수의 소수점을 어디까지 출력할지 등을 설정할 수 있습니다.\n",
    "\n",
    "#### 1.\n",
    "\n",
    "숫자 데이터도 플레이스 홀더를 사용할 수 있습니다."
   ]
  },
  {
   "cell_type": "code",
   "execution_count": 60,
   "id": "stuffed-suspect",
   "metadata": {},
   "outputs": [
    {
     "name": "stdout",
     "output_type": "stream",
     "text": [
      "Some digits of pi: 3.14159265359\n"
     ]
    }
   ],
   "source": [
    "print('Some digits of pi: {}'.format(3.14159265359))"
   ]
  },
  {
   "cell_type": "markdown",
   "id": "grateful-concentration",
   "metadata": {},
   "source": [
    "#### 2.\n",
    "\n",
    "플레이스 홀더에:,를 넣으면 쉼표를 넣어 숫자를 표현할 수도 있습니다."
   ]
  },
  {
   "cell_type": "code",
   "execution_count": 61,
   "id": "cordless-literacy",
   "metadata": {},
   "outputs": [
    {
     "name": "stdout",
     "output_type": "stream",
     "text": [
      "In 2005, Lu Chao of China receited 67,890 digits of pi\n"
     ]
    }
   ],
   "source": [
    "print(\"In 2005, Lu Chao of China receited {:,} digits of pi\".format(67890))"
   ]
  },
  {
   "cell_type": "markdown",
   "id": "statistical-jason",
   "metadata": {},
   "source": [
    "#### 3.\n",
    "\n",
    "소수는 좀더 다양한 방법으로 포매팅할 수 있습니다. 다음은 플레이스 홀더에 0:.4,0:,4%를 넣어 7/67890의 결괏값을 포매팅한 것입니다. {0:,4}과 {0:,4%}에서 0은 format메서드에서 전달받을 값(7/67890)의 인덱스를 의미하고 .4는 소수점 이하의 숫자를 4개까지 출력하겠다는 것을 의미 합니다. 이때 %를 사용하면 7/67890의 결고사값을 백분율로 환산하여 출력합니다."
   ]
  },
  {
   "cell_type": "code",
   "execution_count": 62,
   "id": "cardiovascular-series",
   "metadata": {},
   "outputs": [
    {
     "name": "stdout",
     "output_type": "stream",
     "text": [
      "I remember 0.0001031 or 0.0103% of what Lu Chao recited\n"
     ]
    }
   ],
   "source": [
    "print(\"I remember {0:.4} or {0:.4%} of what Lu Chao recited\".format(7/67890))"
   ]
  },
  {
   "cell_type": "markdown",
   "id": "cordless-switzerland",
   "metadata": {},
   "source": [
    "#### 4.\n",
    "\n",
    "만약 사용자의 아이디가 5자리의 숫자로 표현되어야 한다면 42와 같은 2자리 값은 00042로 출력해야겠죠. 다음은 format의 0번째 값(42)을 5자리의 수로 표현하되 빈 칸을 0으로 채워 출력한 것입니다."
   ]
  },
  {
   "cell_type": "code",
   "execution_count": 63,
   "id": "delayed-exclusion",
   "metadata": {},
   "outputs": [
    {
     "name": "stdout",
     "output_type": "stream",
     "text": [
      "My ID number is 00042\n"
     ]
    }
   ],
   "source": [
    "print(\"My ID number is {0:05d}\".format(42))"
   ]
  },
  {
   "cell_type": "markdown",
   "id": "alert-argentina",
   "metadata": {},
   "source": [
    "### % 연산자로 포매팅하기\n",
    "\n",
    "지금까지는 플레이스 홀더를 이용하여 여러 가지 포매팅을 실습했습니다. 이번에는 %연산자로 포매팅을 실습해 보겠습니다. 만약 C언어를 공부한 적이 있다면 printf 메서드의 출력 형식을 떠올려보세요. 그러면 이번 실습 내용을 좀더 쉽게 이해할 수 있을 것입니다."
   ]
  },
  {
   "cell_type": "code",
   "execution_count": 65,
   "id": "received-resident",
   "metadata": {},
   "outputs": [
    {
     "name": "stdout",
     "output_type": "stream",
     "text": [
      "I only know 7 digits of pi\n"
     ]
    }
   ],
   "source": [
    "s = 'I only know %d digits of pi' %7\n",
    "print(s)\n"
   ]
  },
  {
   "cell_type": "markdown",
   "id": "entertaining-amateur",
   "metadata": {},
   "source": [
    "#### 2.\n",
    "\n",
    "만약 삽입할 값이 문자열이라면 값을 삽입할 위치에 %s 라고 입력해야 합니다. 이때 %와 s 사이에 소괄호를 사용하여 변수를 지정합니다.\n"
   ]
  },
  {
   "cell_type": "code",
   "execution_count": 66,
   "id": "gross-development",
   "metadata": {},
   "outputs": [
    {
     "name": "stdout",
     "output_type": "stream",
     "text": [
      "Smoe digits of e: 2.72\n"
     ]
    }
   ],
   "source": [
    "print('Smoe digits of %(cont)s: %(value).2f' % {'cont':'e', 'value': 2.718})"
   ]
  },
  {
   "cell_type": "markdown",
   "id": "willing-mystery",
   "metadata": {},
   "source": [
    "# 9-4 정규식으로 문자열 처리에 날개 달기\n",
    "\n",
    "### 정규식이란 ?\n",
    "\n",
    "수만 개의 문자열 중에서 내가 원하는 패턴의 문자열만 추출하려면 어떻게 해야 할까요? 예를 들어 I like apple, i like to make application 이라는 문자열에서 app을 포함하는 문자열마 추출하려면 어떻게 해야 할까요? find 메서드를 사용해도 되지만 이런 경우에는 정규식을 사용하면 더 편리 합니다. 그러면 정규식이 무엇인지 실습을 통해 자세히 알아보겠습니다.\n",
    "\n",
    "### 정규식 표현 - 문법, 특수문자 \n",
    "\n",
    "정규식 표현에서 사용되는 문법과 특수문자를 다음과 같이 표로 정리 해두 었다. 정규식을 사용하려면 다음 표를 참고하여 찾고자 하는 문자열의 정규식 패턴들 만들어야 한다. \n",
    "\n",
    "### 정규식 표현 - 메서드\n",
    "다음은 정규식 메서드이다 정규식 메서드는 정규식 패턴을 사용하지 않아도 메서드를 호출하는 방법으로 원하는 패턴의 문자열을 찾을 수 있도록 해준다.\n",
    "\n",
    " - search: 첫 번째로 찾은 패턴의 양 끝 인덱스를 반환\n",
    " - match: 문자열의 처음붕터 검색하여 찾아낸 패턴의 양 끝 인덱스를 반환 \n",
    " - fullmatch: 전체 문자열이 일치하는지 검사\n",
    " - split: 지정한 패턴으로 잘라낸 문자여을 리스트로 반환 \n",
    " - findall: 지정한 패턴을 찾아 리스트로 반환\n",
    " - finditer: findall 메서드와 기능은 동일하지만 iterator를 반환\n",
    " - sub: 첫 번째로 전달한 패턴을 두 번째 인자로 전달한 값으로 교체\n",
    " \n",
    " ### 정규식으로 전화번호 패턴 찾기 \n",
    " \n",
    " 전화번호와 같은 단순한 데이터도 복잡하고 다양한 정규식이 필요하다. 다음을 보자. \n",
    " \n",
    " #### 1. \n",
    " 다음과 같이 re 모듈과 테스트용 문자열을 준비 합니다."
   ]
  },
  {
   "cell_type": "code",
   "execution_count": 67,
   "id": "brutal-globe",
   "metadata": {},
   "outputs": [],
   "source": [
    "import re\n",
    "\n",
    "tele_num = '12345678890'"
   ]
  },
  {
   "cell_type": "markdown",
   "id": "uniform-vehicle",
   "metadata": {},
   "source": [
    "#### 2.\n",
    "\n",
    "match 메서드를 사용하여 길이가 10인 숫자를 확인해 보겠습니다. pattern 인자에는 10개의 숫자를 의미하는 10개의 \\d를, string에는 테스트용 문자열인 tele_num을 전달했습니다. 만약 패턴을 찾으면 Match 오브젝트를 반환합니다. Match 오브젝트를 출력하면 span 에는 찾은 패턴의 인덱스가, match에는 채턴의 문자열이 있는 것을 확인할 수 있습니다."
   ]
  },
  {
   "cell_type": "code",
   "execution_count": 68,
   "id": "electronic-bristol",
   "metadata": {},
   "outputs": [
    {
     "name": "stdout",
     "output_type": "stream",
     "text": [
      "<class '_sre.SRE_Match'>\n"
     ]
    }
   ],
   "source": [
    "m = re.match(pattern='\\d\\d\\d\\d\\d\\d\\d\\d\\d\\d', string=tele_num)\n",
    "print(type(m))"
   ]
  },
  {
   "cell_type": "code",
   "execution_count": 69,
   "id": "respective-japan",
   "metadata": {},
   "outputs": [
    {
     "name": "stdout",
     "output_type": "stream",
     "text": [
      "<_sre.SRE_Match object; span=(0, 10), match='1234567889'>\n"
     ]
    }
   ],
   "source": [
    "print(m)"
   ]
  },
  {
   "cell_type": "markdown",
   "id": "descending-transportation",
   "metadata": {},
   "source": [
    "#### 3.\n",
    "\n",
    "이때 bool aptjemdp m을 전달하면 True나 False를 얻을 수 있습니다. 즉, match 메서드가 반환한 Match 오브젝트는 boll 메서드로 True, False를 판단할 수 있습니다."
   ]
  },
  {
   "cell_type": "code",
   "execution_count": 70,
   "id": "lesbian-emerald",
   "metadata": {},
   "outputs": [
    {
     "name": "stdout",
     "output_type": "stream",
     "text": [
      "True\n"
     ]
    }
   ],
   "source": [
    "print(bool(m))"
   ]
  },
  {
   "cell_type": "code",
   "execution_count": 74,
   "id": "pursuant-manner",
   "metadata": {},
   "outputs": [
    {
     "name": "stdout",
     "output_type": "stream",
     "text": [
      "match\n"
     ]
    }
   ],
   "source": [
    "if m:\n",
    "    print('match')\n",
    "else:\n",
    "    print('no match')\n",
    "        \n",
    "    "
   ]
  },
  {
   "cell_type": "markdown",
   "id": "commercial-lover",
   "metadata": {},
   "source": [
    "#### 4.\n",
    "\n",
    "Match 오브젝트에는 찾아낸 패턴의 정보를 확인할 수 있는 다양한 메서드가 있습니다. start와 end 메서드는 첫 번째와 마지막 인덱스를 반환합니다. span 메서드는 찾은 패턴의 첫번째와 마지막 인덱스를 한 번에 반환합니다. group 메서드는 찾아낸 패턴을 반환합니다."
   ]
  },
  {
   "cell_type": "code",
   "execution_count": 78,
   "id": "democratic-magic",
   "metadata": {},
   "outputs": [
    {
     "name": "stdout",
     "output_type": "stream",
     "text": [
      "0\n"
     ]
    }
   ],
   "source": [
    "print(m.start())"
   ]
  },
  {
   "cell_type": "code",
   "execution_count": 79,
   "id": "increasing-bankruptcy",
   "metadata": {},
   "outputs": [
    {
     "name": "stdout",
     "output_type": "stream",
     "text": [
      "10\n"
     ]
    }
   ],
   "source": [
    "print(m.end())"
   ]
  },
  {
   "cell_type": "code",
   "execution_count": 80,
   "id": "excess-absence",
   "metadata": {},
   "outputs": [
    {
     "name": "stdout",
     "output_type": "stream",
     "text": [
      "(0, 10)\n"
     ]
    }
   ],
   "source": [
    "print(m.span())"
   ]
  },
  {
   "cell_type": "code",
   "execution_count": 81,
   "id": "normal-agreement",
   "metadata": {},
   "outputs": [
    {
     "name": "stdout",
     "output_type": "stream",
     "text": [
      "1234567889\n"
     ]
    }
   ],
   "source": [
    "print(m.group())"
   ]
  },
  {
   "cell_type": "markdown",
   "id": "serious-webcam",
   "metadata": {},
   "source": [
    "#### 5.\n",
    "\n",
    "그런데 전화번호를 입력하는 방법은 1234567890이 아니라 123-456-7890이나 123 456 7890과 같은 방법도 있습니다. 다음은 앞에서 사용한 패턴을 그대로 적용하여 123 456 7890을 검사한 것입니다. 그러면 패턴을 찾지 못해 Match 오브젝트가 아닌 None을 출력합니다."
   ]
  },
  {
   "cell_type": "code",
   "execution_count": 82,
   "id": "interstate-general",
   "metadata": {},
   "outputs": [
    {
     "name": "stdout",
     "output_type": "stream",
     "text": [
      "None\n"
     ]
    }
   ],
   "source": [
    "tele_num_spaces = '123 456 7890'\n",
    "m = re.match(pattern = '\\d{10}', string=tele_num_spaces)\n",
    "print(m)"
   ]
  },
  {
   "cell_type": "code",
   "execution_count": 83,
   "id": "organized-disney",
   "metadata": {},
   "outputs": [
    {
     "name": "stdout",
     "output_type": "stream",
     "text": [
      "no match\n"
     ]
    }
   ],
   "source": [
    "if m:\n",
    "    print('match')\n",
    "else:\n",
    "    print('no match')"
   ]
  },
  {
   "cell_type": "markdown",
   "id": "guided-shanghai",
   "metadata": {},
   "source": [
    "#### 6. \n",
    "\n",
    "과정 5의 문제를 해결하려면 정규식을 다시 작성해야 합니다. 다음과 같이 빈 칸을 의미하는 정규식 \\s?를 넣어 패턴을 다시 만들었습니다."
   ]
  },
  {
   "cell_type": "code",
   "execution_count": 88,
   "id": "alternate-subcommittee",
   "metadata": {},
   "outputs": [
    {
     "name": "stdout",
     "output_type": "stream",
     "text": [
      "<_sre.SRE_Match object; span=(0, 12), match='123 456 7890'>\n"
     ]
    }
   ],
   "source": [
    "p = '\\d{3}\\s?\\d{3}\\s?\\d{4}'\n",
    "m = re.match(pattern=p, string=tele_num_spaces)\n",
    "print(m)"
   ]
  },
  {
   "cell_type": "markdown",
   "id": "static-verification",
   "metadata": {},
   "source": [
    "#### 7.\n",
    "\n",
    "지역 코드는 소괄호로 감싸고 나머지 번호는 반각 기로호 구분한 전화번호의 정규식은 다음과 같이 작성합니다."
   ]
  },
  {
   "cell_type": "code",
   "execution_count": 92,
   "id": "sweet-spice",
   "metadata": {},
   "outputs": [
    {
     "name": "stdout",
     "output_type": "stream",
     "text": [
      "<_sre.SRE_Match object; span=(0, 14), match='(123) 456-7890'>\n"
     ]
    }
   ],
   "source": [
    "tele_num_space_paren_dash = '(123) 456-7890'\n",
    "p = '\\(?\\d{3}\\)?\\s?\\d{3}\\s?-?\\d{4}'\n",
    "m = re.match(pattern = p, string=tele_num_space_paren_dash)\n",
    "print(m)"
   ]
  },
  {
   "cell_type": "markdown",
   "id": "broad-master",
   "metadata": {},
   "source": [
    "#### 8.\n",
    "\n",
    "국가 코드까지 있는 전화번호의 정규식은 다음과 같이 작성합니다.\n"
   ]
  },
  {
   "cell_type": "code",
   "execution_count": 93,
   "id": "transsexual-reducing",
   "metadata": {},
   "outputs": [
    {
     "name": "stdout",
     "output_type": "stream",
     "text": [
      "<_sre.SRE_Match object; span=(0, 17), match='+1 (123) 456-7890'>\n"
     ]
    }
   ],
   "source": [
    "cnty_tele_num_space_paren_dash = '+1 (123) 456-7890'\n",
    "p = '\\+1\\s?\\(?\\d{3}\\)?\\s?\\d{3}\\s?-?\\d{4}'\n",
    "\n",
    "m = re.match(pattern=p, string=cnty_tele_num_space_paren_dash)\n",
    "print(m)"
   ]
  },
  {
   "cell_type": "markdown",
   "id": "aggregate-comparison",
   "metadata": {},
   "source": [
    "### compile 메서드로 정규식 메서드 사용 \n",
    "\n",
    "패턴을 반복해서 사용하려면 compile 메서드로 패턴을 컴파일한 다음 변수에 저장하여 사용하면 됩니다. 다음은 앞에서 실습한 내용 중 하나를 compile 메서드로 처리한 것이다. 패턴을 컴파일한 다음 변수에 저장했기 때문에 정규식 메서드를 반복해서 사용할 수 있어 매우 편리합니다."
   ]
  },
  {
   "cell_type": "code",
   "execution_count": 95,
   "id": "latter-china",
   "metadata": {},
   "outputs": [
    {
     "name": "stdout",
     "output_type": "stream",
     "text": [
      "<_sre.SRE_Match object; span=(0, 10), match='1234567890'>\n"
     ]
    }
   ],
   "source": [
    "p = re.compile('\\d{10}')\n",
    "s = '1234567890'\n",
    "m = p.match(s)\n",
    "print(m)"
   ]
  },
  {
   "cell_type": "markdown",
   "id": "formed-fairy",
   "metadata": {},
   "source": [
    "#### 마무리하며\n",
    "\n",
    "세상에는 문자열로 이루어진 데이터가 너무나도 많습니다. 그래서 데이터 과학자들은 문자열을 처리하는 방법을 매우 중요하게 생각합니다. 그래서 09장에서는 판다스와 전혀 상관없어 보이는 문자열 처리를 설명한 것입니다. 다음 장으로 넘어가기 전에 반드시 9장의 예제를 한 번씩 실습해 보기 바랍니다.\n",
    "\n",
    "출처: Do it 데이터 분석을 위한 판다스 입문\n"
   ]
  },
  {
   "cell_type": "code",
   "execution_count": null,
   "id": "visible-constraint",
   "metadata": {},
   "outputs": [],
   "source": []
  }
 ],
 "metadata": {
  "kernelspec": {
   "display_name": "Python 3",
   "language": "python",
   "name": "python3"
  },
  "language_info": {
   "codemirror_mode": {
    "name": "ipython",
    "version": 3
   },
   "file_extension": ".py",
   "mimetype": "text/x-python",
   "name": "python",
   "nbconvert_exporter": "python",
   "pygments_lexer": "ipython3",
   "version": "3.6.9"
  }
 },
 "nbformat": 4,
 "nbformat_minor": 5
}

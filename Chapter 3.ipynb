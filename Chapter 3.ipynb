{
 "cells": [
  {
   "cell_type": "markdown",
   "id": "pressed-impression",
   "metadata": {},
   "source": [
    "# 3. 판다스 데이터프레임과 시리즈\n",
    "\n",
    "데이터프레임과 시리즈는 리스트나 딕셔너리와 비슷하지만 데이터를 다루는 데 더 특화되어있다. 리스트아 딕셔너리는 많은 양의 데이터를 저장하거나 데이터를 조작할 수 있는 메서드가 많지 않습니다. 반면에 판다스의 데이터프레임과 시리즈는 많은 양의 데이터를 저장할 수 있을 뿐만 아니라 스프레드시트 프로그램을 사용하는 것처럼 행과 열 단위로 원하는 데이터를 조작할 수 있는 다양한 속성과 메서드를 제공합니다.그러면 데이터프레임과 시리즈에 대해 좀 더 자세히 알아보겠습니다.\n",
    "\n",
    "\n",
    "### 3-1 나만의 데이터 만들기\n",
    "### 3-2 시리즈 다루기 - 기초\n",
    "### 3-3 시리즈 다루기 - 응용\n",
    "### 3-4 데이터프레임 다루기\n",
    "### 3-5 시리즈와 데이터프레임의 데이터 처리하기\n",
    "### 3-6 데이터 저장하고 불러오기"
   ]
  },
  {
   "cell_type": "markdown",
   "id": "proper-bouquet",
   "metadata": {},
   "source": [
    "## 3-1 나만의 데이터 만들기\n",
    "\n",
    "### 1. 시리즈 만들기\n",
    "판다스의 Series 메서드에 리스트를 전달하여 시리즈를 생성합니다."
   ]
  },
  {
   "cell_type": "code",
   "execution_count": 1,
   "id": "aboriginal-cocktail",
   "metadata": {},
   "outputs": [
    {
     "name": "stdout",
     "output_type": "stream",
     "text": [
      "0    banana\n",
      "1        42\n",
      "dtype: object\n"
     ]
    }
   ],
   "source": [
    "import pandas as pd\n",
    "s = pd.Series(['banana',42])\n",
    "print(s)"
   ]
  },
  {
   "cell_type": "markdown",
   "id": "phantom-danish",
   "metadata": {},
   "source": [
    "#### 2. \n",
    "인덱스는 보통 0부터 시작한다고 설명했던 것을 기억하나요? 하지만 시리즈를 생성할 때 문자열을 인덱스로 지정할 수도 있습니다. 문자열을 인덱스로 지정하려면 Series메서드의 index 인자를 통해 인덱스로 사용하고자 하는 문자열을 리스트에 담아 전달하면 됩니다."
   ]
  },
  {
   "cell_type": "code",
   "execution_count": 2,
   "id": "naked-looking",
   "metadata": {},
   "outputs": [
    {
     "name": "stdout",
     "output_type": "stream",
     "text": [
      "0         Wes McKinney\n",
      "1    Creator of Pandas\n",
      "dtype: object\n"
     ]
    }
   ],
   "source": [
    "s = pd.Series(['Wes McKinney','Creator of Pandas'])\n",
    "print(s)"
   ]
  },
  {
   "cell_type": "code",
   "execution_count": 3,
   "id": "legislative-ghana",
   "metadata": {},
   "outputs": [
    {
     "name": "stdout",
     "output_type": "stream",
     "text": [
      "Person         Wes McKinney\n",
      "Who       Creator of pandas\n",
      "dtype: object\n"
     ]
    }
   ],
   "source": [
    "s = pd.Series(['Wes McKinney','Creator of pandas'], index = ['Person','Who'])\n",
    "print(s)"
   ]
  },
  {
   "cell_type": "markdown",
   "id": "promising-brick",
   "metadata": {},
   "source": [
    "#### 3. 데이터프레임 만들기\n",
    "데이터프레임을 만들기 위해서는 딕셔너리를 DataFrame 클래스에 전달해야 합니다."
   ]
  },
  {
   "cell_type": "code",
   "execution_count": 20,
   "id": "handmade-arcade",
   "metadata": {},
   "outputs": [
    {
     "name": "stdout",
     "output_type": "stream",
     "text": [
      "                Name    Occupation        Born        Died  Age\n",
      "0  Rosaline Franklin       Chemist  1920-07-25  1958-04-16   37\n",
      "1     William Gosset  Statistician  1876-06-13  1937-10-16   61\n"
     ]
    }
   ],
   "source": [
    "scientists = pd.DataFrame({\n",
    "    'Name':['Rosaline Franklin', 'William Gosset'],\n",
    "    'Occupation':['Chemist','Statistician'],\n",
    "    'Born':['1920-07-25', '1876-06-13'],\n",
    "    'Died':['1958-04-16', '1937-10-16'],\n",
    "    'Age':[37, 61]})\n",
    "\n",
    "print(scientists)"
   ]
  },
  {
   "cell_type": "code",
   "execution_count": 18,
   "id": "flexible-techno",
   "metadata": {},
   "outputs": [
    {
     "data": {
      "text/html": [
       "<div>\n",
       "<style scoped>\n",
       "    .dataframe tbody tr th:only-of-type {\n",
       "        vertical-align: middle;\n",
       "    }\n",
       "\n",
       "    .dataframe tbody tr th {\n",
       "        vertical-align: top;\n",
       "    }\n",
       "\n",
       "    .dataframe thead th {\n",
       "        text-align: right;\n",
       "    }\n",
       "</style>\n",
       "<table border=\"1\" class=\"dataframe\">\n",
       "  <thead>\n",
       "    <tr style=\"text-align: right;\">\n",
       "      <th></th>\n",
       "      <th>Name</th>\n",
       "      <th>Occupation</th>\n",
       "      <th>Born</th>\n",
       "      <th>Died</th>\n",
       "      <th>Age</th>\n",
       "    </tr>\n",
       "  </thead>\n",
       "  <tbody>\n",
       "    <tr>\n",
       "      <th>0</th>\n",
       "      <td>Rosaline Franklin</td>\n",
       "      <td>Chemist</td>\n",
       "      <td>1920-07-05</td>\n",
       "      <td>1958-04-16</td>\n",
       "      <td>37</td>\n",
       "    </tr>\n",
       "    <tr>\n",
       "      <th>1</th>\n",
       "      <td>William Gosset</td>\n",
       "      <td>Statistician</td>\n",
       "      <td>1876-06-13</td>\n",
       "      <td>1937-10-16</td>\n",
       "      <td>61</td>\n",
       "    </tr>\n",
       "  </tbody>\n",
       "</table>\n",
       "</div>"
      ],
      "text/plain": [
       "                Name    Occupation        Born        Died  Age\n",
       "0  Rosaline Franklin       Chemist  1920-07-05  1958-04-16   37\n",
       "1     William Gosset  Statistician  1876-06-13  1937-10-16   61"
      ]
     },
     "execution_count": 18,
     "metadata": {},
     "output_type": "execute_result"
    }
   ],
   "source": [
    "scientists = pd.DataFrame({\n",
    "    'Name': ['Rosaline Franklin', 'William Gosset'],\n",
    "    'Occupation' : ['Chemist', 'Statistician'],\n",
    "    'Born': ['1920-07-05', '1876-06-13'],\n",
    "    'Died': ['1958-04-16', '1937-10-16'],\n",
    "    'Age': [37,61]}\n",
    ")\n",
    "scientists"
   ]
  },
  {
   "cell_type": "markdown",
   "id": "public-buyer",
   "metadata": {},
   "source": [
    "#### 4.\n",
    "시리즈와 마찬가지로 데이터프레임도 인덱스를 따로 지증하지 않으면 인덱스를 0부터 자동으로 생성한다. 인덱스를 따로 지정하려면 index 인자에 리스트를 전달하면 된다. 또한, columns인자를 사용하면 데이터프레임의 열 순서를 지정할 수 있다."
   ]
  },
  {
   "cell_type": "code",
   "execution_count": 21,
   "id": "aging-fellowship",
   "metadata": {},
   "outputs": [
    {
     "name": "stdout",
     "output_type": "stream",
     "text": [
      "                     Occupation        Born  Age        Died\n",
      "Rosaline Franklin       Chemist  1920-07-05   37  1958-04-16\n",
      "William Gosset     Statistician  1876-06-13   61  1937-10-16\n"
     ]
    }
   ],
   "source": [
    "scientists = pd.DataFrame(\n",
    "    data={'Occupation' : ['Chemist', 'Statistician'],\n",
    "    'Born': ['1920-07-05', '1876-06-13'],\n",
    "    'Died': ['1958-04-16', '1937-10-16'],\n",
    "    'Age': [37,61]},\n",
    "    index=['Rosaline Franklin', 'William Gosset'],\n",
    "    columns=['Occupation', 'Born', 'Age', 'Died']\n",
    ")\n",
    "\n",
    "print(scientists)"
   ]
  },
  {
   "cell_type": "markdown",
   "id": "diverse-veteran",
   "metadata": {},
   "source": [
    "## 3-2 시리즈 다루기 - 기초\n",
    "\n",
    "판다스의 데이터 구성 기본 단위는 시리즈이다. 시리즈에 대해 알아보자.\n"
   ]
  },
  {
   "cell_type": "markdown",
   "id": "respected-charm",
   "metadata": {},
   "source": [
    "### 데이터프레임에서 시리즈 선택\n",
    "#### 1 \n",
    "\n",
    "우선 변수 scientists에 데이터프레임을 준비 하자"
   ]
  },
  {
   "cell_type": "code",
   "execution_count": 22,
   "id": "worst-coordinate",
   "metadata": {},
   "outputs": [
    {
     "name": "stdout",
     "output_type": "stream",
     "text": [
      "                     Occupation        Born  Age        Died\n",
      "Rosaline Franklin       Chemist  1920-07-05   37  1958-04-16\n",
      "William Gosset     Statistician  1876-06-13   61  1937-10-16\n"
     ]
    }
   ],
   "source": [
    "scientists = pd.DataFrame(\n",
    "    data={'Occupation' : ['Chemist', 'Statistician'],\n",
    "    'Born': ['1920-07-05', '1876-06-13'],\n",
    "    'Died': ['1958-04-16', '1937-10-16'],\n",
    "    'Age': [37,61]},\n",
    "    index=['Rosaline Franklin', 'William Gosset'],\n",
    "    columns=['Occupation', 'Born', 'Age', 'Died']\n",
    ")\n",
    "\n",
    "print(scientists)"
   ]
  },
  {
   "cell_type": "markdown",
   "id": "accredited-clerk",
   "metadata": {},
   "source": [
    "#### 2 \n",
    "데이터프레임에서 시리즈를 선택하려면 loc속성에 인덱스를 전달하면 된다. "
   ]
  },
  {
   "cell_type": "code",
   "execution_count": 23,
   "id": "sporting-pollution",
   "metadata": {},
   "outputs": [
    {
     "data": {
      "text/plain": [
       "pandas.core.series.Series"
      ]
     },
     "execution_count": 23,
     "metadata": {},
     "output_type": "execute_result"
    }
   ],
   "source": [
    "first_row = scientists.loc['William Gosset']\n",
    "\n",
    "type(first_row)"
   ]
  },
  {
   "cell_type": "code",
   "execution_count": 24,
   "id": "standing-birthday",
   "metadata": {},
   "outputs": [
    {
     "data": {
      "text/plain": [
       "Occupation    Statistician\n",
       "Born            1876-06-13\n",
       "Age                     61\n",
       "Died            1937-10-16\n",
       "Name: William Gosset, dtype: object"
      ]
     },
     "execution_count": 24,
     "metadata": {},
     "output_type": "execute_result"
    }
   ],
   "source": [
    "first_row"
   ]
  },
  {
   "cell_type": "markdown",
   "id": "associate-reducing",
   "metadata": {},
   "source": [
    "### 시리즈 속성과 메서드 사용 - index, values, keys\n",
    "\n",
    "#### 1. index 속성 사용"
   ]
  },
  {
   "cell_type": "code",
   "execution_count": 25,
   "id": "apparent-documentation",
   "metadata": {},
   "outputs": [
    {
     "data": {
      "text/plain": [
       "Index(['Occupation', 'Born', 'Age', 'Died'], dtype='object')"
      ]
     },
     "execution_count": 25,
     "metadata": {},
     "output_type": "execute_result"
    }
   ],
   "source": [
    "first_row.index"
   ]
  },
  {
   "cell_type": "markdown",
   "id": "literary-photography",
   "metadata": {},
   "source": [
    "#### 2. values 속성 사용"
   ]
  },
  {
   "cell_type": "code",
   "execution_count": 26,
   "id": "closing-priority",
   "metadata": {},
   "outputs": [
    {
     "data": {
      "text/plain": [
       "array(['Statistician', '1876-06-13', 61, '1937-10-16'], dtype=object)"
      ]
     },
     "execution_count": 26,
     "metadata": {},
     "output_type": "execute_result"
    }
   ],
   "source": [
    "first_row.values"
   ]
  },
  {
   "cell_type": "markdown",
   "id": "expressed-increase",
   "metadata": {},
   "source": [
    "#### 3. key 메서드 사용\n",
    "\n",
    "keys는 속성이 아니라 메서드라는 표현을 사용했다. keys 메서드는 index속성과 같은 역할은 한다. 즉, 과정1의 결과와 동일한 결과값을 얻을 수 있다."
   ]
  },
  {
   "cell_type": "code",
   "execution_count": 27,
   "id": "quarterly-bronze",
   "metadata": {},
   "outputs": [
    {
     "data": {
      "text/plain": [
       "Index(['Occupation', 'Born', 'Age', 'Died'], dtype='object')"
      ]
     },
     "execution_count": 27,
     "metadata": {},
     "output_type": "execute_result"
    }
   ],
   "source": [
    "first_row.keys()"
   ]
  },
  {
   "cell_type": "markdown",
   "id": "modified-senate",
   "metadata": {},
   "source": [
    "#### 4. index 속성 응용"
   ]
  },
  {
   "cell_type": "code",
   "execution_count": 28,
   "id": "fifth-facial",
   "metadata": {},
   "outputs": [
    {
     "data": {
      "text/plain": [
       "'Occupation'"
      ]
     },
     "execution_count": 28,
     "metadata": {},
     "output_type": "execute_result"
    }
   ],
   "source": [
    "first_row.index[0]"
   ]
  },
  {
   "cell_type": "markdown",
   "id": "presidential-cutting",
   "metadata": {},
   "source": [
    "#### 5. keys 메서드 응용"
   ]
  },
  {
   "cell_type": "code",
   "execution_count": 29,
   "id": "variable-happiness",
   "metadata": {},
   "outputs": [
    {
     "data": {
      "text/plain": [
       "'Occupation'"
      ]
     },
     "execution_count": 29,
     "metadata": {},
     "output_type": "execute_result"
    }
   ],
   "source": [
    "first_row.keys()[0]"
   ]
  },
  {
   "cell_type": "markdown",
   "id": "established-receptor",
   "metadata": {},
   "source": [
    "### 시리즈의 기초 통계 메서드 사용\n",
    "\n",
    "시리즈에는 keys메서드 외에도 다양한 메서드가 있다. mean, min, max, std메서드의 사용방법을 알아보자."
   ]
  },
  {
   "cell_type": "markdown",
   "id": "friendly-peripheral",
   "metadata": {},
   "source": [
    "#### 1. \n",
    "scientists의 Ages열을 추출 해보자."
   ]
  },
  {
   "cell_type": "code",
   "execution_count": 30,
   "id": "average-latitude",
   "metadata": {},
   "outputs": [
    {
     "data": {
      "text/plain": [
       "Rosaline Franklin    37\n",
       "William Gosset       61\n",
       "Name: Age, dtype: int64"
      ]
     },
     "execution_count": 30,
     "metadata": {},
     "output_type": "execute_result"
    }
   ],
   "source": [
    "ages = scientists['Age']\n",
    "ages"
   ]
  },
  {
   "cell_type": "markdown",
   "id": "fifty-pointer",
   "metadata": {},
   "source": [
    "#### 2. \n",
    "\n",
    "시리즈를 구성하는 데이터가 정수이면 mean, min, max, std와 같은 통계 메서드를 사용할 수 있다."
   ]
  },
  {
   "cell_type": "code",
   "execution_count": 32,
   "id": "south-inside",
   "metadata": {},
   "outputs": [
    {
     "name": "stdout",
     "output_type": "stream",
     "text": [
      "49.0\n",
      "37\n",
      "61\n",
      "16.97056274847714\n"
     ]
    }
   ],
   "source": [
    "print(ages.mean()) # ages 평균\n",
    "print(ages.min()) # ages 최소값\n",
    "print(ages.max()) # ages 최대값\n",
    "print(ages.std()) # age 표준편차"
   ]
  },
  {
   "cell_type": "markdown",
   "id": "heavy-happiness",
   "metadata": {},
   "source": [
    "#### 시리즈 메서드 정리\n",
    "|시리즈 메서드|설명|\n",
    "|:-:|:-:|\n",
    "|append|2개 이상의 시리즈 연결|\n",
    "|describe|요약 통계량 계산|\n",
    "|drop_duplicates|중복값이 없는 시리즈 변환|\n",
    "|equals|시리즈에 해당 값을 가진 요소가 있는지 확인|\n",
    "|get_values|시리즈 값 구하기(values 속성과 동일)|\n",
    "|isin|시리즈에 포함관 값이 있는지 확인|\n",
    "|min|최소값|\n",
    "|max|최대값|\n",
    "|mean|평균값|\n",
    "|median|중간값|\n",
    "|replace|특정 값을 가진 시리즈 값을 교체|\n",
    "|sample|시리즈에서 임의의 값을 변환|\n",
    "|sort_values|값을 정렬|\n",
    "|to_frame|시리즈를 데이터프레임으로 변환|"
   ]
  },
  {
   "cell_type": "markdown",
   "id": "simplified-poverty",
   "metadata": {},
   "source": [
    "## 3-3 시리즈 다루기 - 응용\n",
    "\n",
    "### 시리즈와 불린 추출\n",
    "\n",
    "불린 추출에 대해 알아보자. 불린 추출은 특정 조건을 만족하는 값만 추출할 수 있다."
   ]
  },
  {
   "cell_type": "markdown",
   "id": "interesting-north",
   "metadata": {},
   "source": [
    "### 시리즈와 불린 추출 사용\n",
    "\n",
    "#### 1. \n",
    "sceintists.csv를 불러와서 시작 하자"
   ]
  },
  {
   "cell_type": "code",
   "execution_count": 33,
   "id": "fitting-bench",
   "metadata": {},
   "outputs": [],
   "source": [
    "scientists = pd.read_csv(\"./data/scientists.csv\")"
   ]
  },
  {
   "cell_type": "markdown",
   "id": "prerequisite-driver",
   "metadata": {},
   "source": [
    "#### 2. "
   ]
  },
  {
   "cell_type": "code",
   "execution_count": 34,
   "id": "fifty-twins",
   "metadata": {},
   "outputs": [
    {
     "name": "stdout",
     "output_type": "stream",
     "text": [
      "90\n",
      "59.125\n"
     ]
    }
   ],
   "source": [
    "ages = scientists['Age']\n",
    "\n",
    "print(ages.max())\n",
    "print(ages.mean())"
   ]
  },
  {
   "cell_type": "markdown",
   "id": "occupational-victorian",
   "metadata": {},
   "source": [
    "#### 3.\n",
    "\n",
    "이제 불린 추출 사용법을 알아보자. 예로 평균 나이보다 나이가 많은 사람의 데이터를 추출하기 위해선 다음의 코드를 사용하면 된다."
   ]
  },
  {
   "cell_type": "code",
   "execution_count": 35,
   "id": "canadian-drilling",
   "metadata": {},
   "outputs": [
    {
     "name": "stdout",
     "output_type": "stream",
     "text": [
      "0    37\n",
      "4    56\n",
      "5    45\n",
      "6    41\n",
      "Name: Age, dtype: int64\n"
     ]
    }
   ],
   "source": [
    "print(ages[ages < ages.mean()])"
   ]
  },
  {
   "cell_type": "markdown",
   "id": "infrared-silver",
   "metadata": {},
   "source": [
    "#### 4. \n",
    "이번에는 이 값을 TF로 표현을 해보자"
   ]
  },
  {
   "cell_type": "code",
   "execution_count": 36,
   "id": "other-battlefield",
   "metadata": {},
   "outputs": [
    {
     "name": "stdout",
     "output_type": "stream",
     "text": [
      "0    False\n",
      "1     True\n",
      "2     True\n",
      "3     True\n",
      "4    False\n",
      "5    False\n",
      "6    False\n",
      "7     True\n",
      "Name: Age, dtype: bool\n"
     ]
    }
   ],
   "source": [
    "print(ages > ages.mean())"
   ]
  },
  {
   "cell_type": "markdown",
   "id": "sorted-chair",
   "metadata": {},
   "source": [
    "#### 5. \n",
    "위에서 보듯이 리스트 형태로 True/False를 시리즈에 전달 하면 True만 필터링 해서 추출을 하는데 이것을 불린 추출이라고 한다."
   ]
  },
  {
   "cell_type": "code",
   "execution_count": 37,
   "id": "under-manitoba",
   "metadata": {},
   "outputs": [
    {
     "data": {
      "text/plain": [
       "0    37\n",
       "1    61\n",
       "4    56\n",
       "5    45\n",
       "7    77\n",
       "Name: Age, dtype: int64"
      ]
     },
     "execution_count": 37,
     "metadata": {},
     "output_type": "execute_result"
    }
   ],
   "source": [
    "manual_bool_values = [True, True, False, False, True, True, False, True]\n",
    "\n",
    "ages[manual_bool_values]"
   ]
  },
  {
   "cell_type": "markdown",
   "id": "light-nylon",
   "metadata": {},
   "source": [
    "### 시리즈와 브로드캐스팅 \n",
    "\n",
    "시리즈나 데이터프레임에 있는 모든 데이터에 대해 한 번에 연산하는 것을 브로드캐스팅(Broadcasting)이라고 한다. 시리즈처럼 여러 개의 값을 가진 데이터를 벡터라고 하고 단순 크기를 나타내는 데이터는 스칼라라고 한다."
   ]
  },
  {
   "cell_type": "markdown",
   "id": "electrical-stephen",
   "metadata": {},
   "source": [
    "### 벡터와 스칼라로 브로드캐스팅 수행\n",
    "\n",
    "#### 1. \n",
    "다음은 같은 길이의 벡터로 더하기 연산과 곱하기 연산을 수행한 것이다."
   ]
  },
  {
   "cell_type": "code",
   "execution_count": 39,
   "id": "numeric-hearts",
   "metadata": {},
   "outputs": [
    {
     "data": {
      "text/plain": [
       "0     74\n",
       "1    122\n",
       "2    180\n",
       "3    132\n",
       "4    112\n",
       "5     90\n",
       "6     82\n",
       "7    154\n",
       "Name: Age, dtype: int64"
      ]
     },
     "execution_count": 39,
     "metadata": {},
     "output_type": "execute_result"
    }
   ],
   "source": [
    "ages + ages"
   ]
  },
  {
   "cell_type": "code",
   "execution_count": 40,
   "id": "twenty-complement",
   "metadata": {},
   "outputs": [
    {
     "data": {
      "text/plain": [
       "0    1369\n",
       "1    3721\n",
       "2    8100\n",
       "3    4356\n",
       "4    3136\n",
       "5    2025\n",
       "6    1681\n",
       "7    5929\n",
       "Name: Age, dtype: int64"
      ]
     },
     "execution_count": 40,
     "metadata": {},
     "output_type": "execute_result"
    }
   ],
   "source": [
    "ages * ages"
   ]
  },
  {
   "cell_type": "markdown",
   "id": "least-evaluation",
   "metadata": {},
   "source": [
    "#### 2. \n",
    "이번에는 벡터에 스칼라를 연산해보자."
   ]
  },
  {
   "cell_type": "code",
   "execution_count": 42,
   "id": "forward-tyler",
   "metadata": {},
   "outputs": [
    {
     "data": {
      "text/plain": [
       "0    137\n",
       "1    161\n",
       "2    190\n",
       "3    166\n",
       "4    156\n",
       "5    145\n",
       "6    141\n",
       "7    177\n",
       "Name: Age, dtype: int64"
      ]
     },
     "execution_count": 42,
     "metadata": {},
     "output_type": "execute_result"
    }
   ],
   "source": [
    "ages + 100"
   ]
  },
  {
   "cell_type": "code",
   "execution_count": 43,
   "id": "adolescent-shape",
   "metadata": {},
   "outputs": [
    {
     "data": {
      "text/plain": [
       "0     74\n",
       "1    122\n",
       "2    180\n",
       "3    132\n",
       "4    112\n",
       "5     90\n",
       "6     82\n",
       "7    154\n",
       "Name: Age, dtype: int64"
      ]
     },
     "execution_count": 43,
     "metadata": {},
     "output_type": "execute_result"
    }
   ],
   "source": [
    "ages * 2"
   ]
  },
  {
   "cell_type": "markdown",
   "id": "uniform-recall",
   "metadata": {},
   "source": [
    "#### 3. \n",
    "길이가 서로 다른 벡터를 연산하려면? 시리즈와 시리즈를 연산하는 경우 같은 인덱스의 값만 계산하게 된다. 다음은 데이터의 개수가 2개인 시리즈와 8개인 시리즈를 더한것이다. 결과값을 보면 인덱스가 일치한 상위두개의 값만 계산을 하였고 나머지는 누락값(NaN)으로 처리가 된다."
   ]
  },
  {
   "cell_type": "code",
   "execution_count": 44,
   "id": "atlantic-friend",
   "metadata": {},
   "outputs": [
    {
     "data": {
      "text/plain": [
       "0      1\n",
       "1    100\n",
       "dtype: int64"
      ]
     },
     "execution_count": 44,
     "metadata": {},
     "output_type": "execute_result"
    }
   ],
   "source": [
    "pd.Series([1,100])"
   ]
  },
  {
   "cell_type": "code",
   "execution_count": 45,
   "id": "fitted-talent",
   "metadata": {},
   "outputs": [
    {
     "data": {
      "text/plain": [
       "0     38.0\n",
       "1    161.0\n",
       "2      NaN\n",
       "3      NaN\n",
       "4      NaN\n",
       "5      NaN\n",
       "6      NaN\n",
       "7      NaN\n",
       "dtype: float64"
      ]
     },
     "execution_count": 45,
     "metadata": {},
     "output_type": "execute_result"
    }
   ],
   "source": [
    "ages + pd.Series([1,100])"
   ]
  },
  {
   "cell_type": "markdown",
   "id": "identified-organ",
   "metadata": {},
   "source": [
    "#### 4. \n",
    "다음은 sort_index 메서드를 사용한 것이다. 이때 ascending 인자로 False를 전달하여 인덱스 역순으로 데이터를 정렬한 결과이다."
   ]
  },
  {
   "cell_type": "code",
   "execution_count": 46,
   "id": "different-injection",
   "metadata": {},
   "outputs": [
    {
     "data": {
      "text/plain": [
       "7    77\n",
       "6    41\n",
       "5    45\n",
       "4    56\n",
       "3    66\n",
       "2    90\n",
       "1    61\n",
       "0    37\n",
       "Name: Age, dtype: int64"
      ]
     },
     "execution_count": 46,
     "metadata": {},
     "output_type": "execute_result"
    }
   ],
   "source": [
    "rev_ages = ages.sort_index(ascending=False)\n",
    "rev_ages"
   ]
  },
  {
   "cell_type": "markdown",
   "id": "noble-clause",
   "metadata": {},
   "source": [
    "#### 5. \n",
    "\n",
    "이번에는 인덱스를 역순으로 구성한 rev_age와 ages를 더하고, 동시에 ages에 2를 곱한 값을 비교해보자. 결과는 같을텐데, ages의 인덱스와 rev_ages의 인덱스가 일치하는 값끼리 연산을 수행했기 때문이다"
   ]
  },
  {
   "cell_type": "code",
   "execution_count": 47,
   "id": "combined-spectrum",
   "metadata": {},
   "outputs": [
    {
     "name": "stdout",
     "output_type": "stream",
     "text": [
      "0     74\n",
      "1    122\n",
      "2    180\n",
      "3    132\n",
      "4    112\n",
      "5     90\n",
      "6     82\n",
      "7    154\n",
      "Name: Age, dtype: int64\n",
      "0     74\n",
      "1    122\n",
      "2    180\n",
      "3    132\n",
      "4    112\n",
      "5     90\n",
      "6     82\n",
      "7    154\n",
      "Name: Age, dtype: int64\n"
     ]
    }
   ],
   "source": [
    "print(ages * 2)\n",
    "print(ages + rev_ages)"
   ]
  },
  {
   "cell_type": "markdown",
   "id": "pleased-ethnic",
   "metadata": {},
   "source": [
    "# 3-4 데이터프레임 다루기\n",
    "\n",
    "### 불린 추출과 브로드캐스팅\n",
    "\n",
    "#### 1. 불린 추출하기\n"
   ]
  },
  {
   "cell_type": "code",
   "execution_count": 48,
   "id": "coastal-russell",
   "metadata": {},
   "outputs": [
    {
     "name": "stdout",
     "output_type": "stream",
     "text": [
      "                   Name        Born        Died  Age     Occupation\n",
      "1        William Gosset  1876-06-13  1937-10-16   61   Statistician\n",
      "2  Florence Nightingale  1820-05-12  1910-08-13   90          Nurse\n",
      "3           Marie Curie  1867-11-07  1934-07-04   66        Chemist\n",
      "7          Johann Gauss  1777-04-30  1855-02-23   77  Mathematician\n"
     ]
    }
   ],
   "source": [
    "print(scientists[scientists['Age'] > scientists['Age'].mean()])"
   ]
  },
  {
   "cell_type": "code",
   "execution_count": null,
   "id": "improved-broadcasting",
   "metadata": {},
   "outputs": [],
   "source": []
  }
 ],
 "metadata": {
  "kernelspec": {
   "display_name": "Python 3",
   "language": "python",
   "name": "python3"
  },
  "language_info": {
   "codemirror_mode": {
    "name": "ipython",
    "version": 3
   },
   "file_extension": ".py",
   "mimetype": "text/x-python",
   "name": "python",
   "nbconvert_exporter": "python",
   "pygments_lexer": "ipython3",
   "version": "3.9.2"
  }
 },
 "nbformat": 4,
 "nbformat_minor": 5
}

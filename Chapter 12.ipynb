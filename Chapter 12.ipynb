{
 "cells": [
  {
   "cell_type": "markdown",
   "id": "quality-passion",
   "metadata": {},
   "source": [
    "# 12 시계열 데이터\n",
    "\n",
    "시계열 데이터는 데이터 분석 분야에서 중요하게 다루는 데이터 중 하나입니다. 우리가 지금까지 다룬 날씨 관측 데이터, 에볼라 전염병으로 인한 사망자 수 관측 데이터, 빌보드 차트 데이터에는 모두 시계열 데이터가 포함되어 있었죠. 즉, 일정 시간 간격으로 어떤 값을 기록한 데이터에서는 시계열 데이터가 매우 중요합니다. 따라서 데이터를 자유자재로 다룰 줄 알아야 유능한 데이터 분석가라고 할 수 있습니다. 그러면 시계열 데이터란 무엇인지 알아볼까요?\n",
    "\n",
    "## 12-1 datetime 오브젝트\n",
    "\n",
    "## 12-2 사례별 시계열 데이터 계산하기\n",
    "\n",
    "# 12-1 datetime 오브젝트\n",
    "\n",
    "datetime 라이브러리는 날짜와 시간을 처리하는 등의 다양한 기능을 제공하는 파이썬 라이브러리입니다. datetime 라이브러리에는 날자를 처리하는 date 오브젝트, 시간을 처리하는 time 오브젝트, 날짜와 시간을 모두 처리하는 datetime 오브젝트가 포함되어 있습니다. 앞으로 3개의 오브젝트를 명확히 구분하기 위해 영무을 그대로 살려 date, time, datetime 오브젝트라고 부르겠습니다.\n",
    "\n",
    "#### datetime 오브젝트 사용하기\n",
    "\n",
    "#### 1. \n",
    "\n",
    "datetime 오브젝트를 사용하기 위해 datetime 라이브러리를 불러옵니다."
   ]
  },
  {
   "cell_type": "code",
   "execution_count": 1,
   "id": "arbitrary-divide",
   "metadata": {},
   "outputs": [],
   "source": [
    "from datetime import datetime"
   ]
  },
  {
   "cell_type": "markdown",
   "id": "small-benefit",
   "metadata": {},
   "source": [
    "#### 2.\n",
    "\n",
    "now, today 메서드를 사용하면 다음과 같이 현재 시간을 출력할 수 있습니다."
   ]
  },
  {
   "cell_type": "code",
   "execution_count": 2,
   "id": "funny-experience",
   "metadata": {},
   "outputs": [
    {
     "name": "stdout",
     "output_type": "stream",
     "text": [
      "2021-03-30 22:09:37.913708\n"
     ]
    }
   ],
   "source": [
    "now1 = datetime.now()\n",
    "print(now1)"
   ]
  },
  {
   "cell_type": "code",
   "execution_count": 4,
   "id": "rising-lucas",
   "metadata": {},
   "outputs": [
    {
     "name": "stdout",
     "output_type": "stream",
     "text": [
      "2021-03-30 22:10:09.391391\n"
     ]
    }
   ],
   "source": [
    "now2 = datetime.today()\n",
    "print(now2)"
   ]
  },
  {
   "cell_type": "markdown",
   "id": "proved-precipitation",
   "metadata": {},
   "source": [
    "#### 3. \n",
    "\n",
    "다음은 datetime 오브젝트를 생성할 때 시간을 직접 입력하여 인자로 전달한 것입니다. 각 변수를 출력하여 확인해 보면 입력한 시간을 바탕으로 datetime 오브젝트가 생성괸 것을 알 수 있습니다"
   ]
  },
  {
   "cell_type": "code",
   "execution_count": 5,
   "id": "fiscal-devil",
   "metadata": {},
   "outputs": [
    {
     "name": "stdout",
     "output_type": "stream",
     "text": [
      "2021-03-30 22:12:31.494185\n",
      "1970-01-01 00:00:00\n",
      "1970-12-12 13:24:34\n"
     ]
    }
   ],
   "source": [
    "t1 = datetime.now()\n",
    "t2 = datetime(1970, 1, 1)\n",
    "t3 = datetime(1970, 12, 12, 13, 24, 34)\n",
    "\n",
    "print(t1)\n",
    "print(t2)\n",
    "print(t3)"
   ]
  },
  {
   "cell_type": "markdown",
   "id": "running-accounting",
   "metadata": {},
   "source": [
    "#### 4.\n",
    "\n",
    "datetime 오브젝트를 사용하는 이유 중 하나는 시간 계산을 할 수 있다는 점입니다. 다음은 두 datetime 오브젝트의 차이를 구한 것입니다."
   ]
  },
  {
   "cell_type": "code",
   "execution_count": 6,
   "id": "bottom-tsunami",
   "metadata": {},
   "outputs": [
    {
     "name": "stdout",
     "output_type": "stream",
     "text": [
      "18716 days, 22:12:31.494185\n",
      "<class 'datetime.timedelta'>\n"
     ]
    }
   ],
   "source": [
    "diff1 = t1 - t2\n",
    "\n",
    "print(diff1)\n",
    "print(type(diff1))"
   ]
  },
  {
   "cell_type": "code",
   "execution_count": 8,
   "id": "velvet-painting",
   "metadata": {},
   "outputs": [
    {
     "name": "stdout",
     "output_type": "stream",
     "text": [
      "-18717 days, 1:47:28.505815\n",
      "<class 'datetime.timedelta'>\n"
     ]
    }
   ],
   "source": [
    "diff2 = t2 - t1\n",
    "\n",
    "print(diff2)\n",
    "print(type(diff2))"
   ]
  },
  {
   "cell_type": "markdown",
   "id": "ethical-operation",
   "metadata": {},
   "source": [
    "#### datetime 오브젝트로 변환하기 - to_datetime 메서드\n",
    "\n",
    "경우에 따라서는 시계열 데이터를 문자열로 저장해야 할 때도 있습니다. 하지만 문자열은 시간 계산을 할 수 없기 때문에 datetime 오브젝트로 변환해 주어야 합니다. 이번에는 to_datetime 메서드를 사용하여 문자열을 datetime 오브젝트로 변환하는 방법에 대해 알아보겠습니다."
   ]
  },
  {
   "cell_type": "markdown",
   "id": "characteristic-corruption",
   "metadata": {},
   "source": [
    "#### 문자열을 datetime 오브젝트로 변환하기\n",
    "\n",
    "#### 1.\n",
    "\n",
    "먼저  ebola 데이터 집합을 불러옵니다.\n"
   ]
  },
  {
   "cell_type": "code",
   "execution_count": 13,
   "id": "animated-bibliography",
   "metadata": {},
   "outputs": [],
   "source": [
    "import pandas as pd\n",
    "import os\n",
    "\n",
    "ebola = pd.read_csv('./data/country_timeseries.csv')"
   ]
  },
  {
   "cell_type": "markdown",
   "id": "downtown-register",
   "metadata": {},
   "source": [
    "#### 2.\n",
    "\n",
    "ebola 데이터프레임을 보면 문자열로 저장된 Date 열이 있는 것을 알 수 있습니다."
   ]
  },
  {
   "cell_type": "code",
   "execution_count": 14,
   "id": "sacred-client",
   "metadata": {},
   "outputs": [
    {
     "name": "stdout",
     "output_type": "stream",
     "text": [
      "<class 'pandas.core.frame.DataFrame'>\n",
      "RangeIndex: 122 entries, 0 to 121\n",
      "Data columns (total 18 columns):\n",
      " #   Column               Non-Null Count  Dtype  \n",
      "---  ------               --------------  -----  \n",
      " 0   Date                 122 non-null    object \n",
      " 1   Day                  122 non-null    int64  \n",
      " 2   Cases_Guinea         93 non-null     float64\n",
      " 3   Cases_Liberia        83 non-null     float64\n",
      " 4   Cases_SierraLeone    87 non-null     float64\n",
      " 5   Cases_Nigeria        38 non-null     float64\n",
      " 6   Cases_Senegal        25 non-null     float64\n",
      " 7   Cases_UnitedStates   18 non-null     float64\n",
      " 8   Cases_Spain          16 non-null     float64\n",
      " 9   Cases_Mali           12 non-null     float64\n",
      " 10  Deaths_Guinea        92 non-null     float64\n",
      " 11  Deaths_Liberia       81 non-null     float64\n",
      " 12  Deaths_SierraLeone   87 non-null     float64\n",
      " 13  Deaths_Nigeria       38 non-null     float64\n",
      " 14  Deaths_Senegal       22 non-null     float64\n",
      " 15  Deaths_UnitedStates  18 non-null     float64\n",
      " 16  Deaths_Spain         16 non-null     float64\n",
      " 17  Deaths_Mali          12 non-null     float64\n",
      "dtypes: float64(16), int64(1), object(1)\n",
      "memory usage: 17.3+ KB\n",
      "None\n"
     ]
    }
   ],
   "source": [
    "print(ebola.info())"
   ]
  },
  {
   "cell_type": "markdown",
   "id": "technological-terminology",
   "metadata": {},
   "source": [
    "#### 3.\n",
    "\n",
    "to_datetime 메서드를 사용하면 Date 열의 자료형을 datetime 오브젝트로 변환할 수 있습니다. 다음과 같이 to_datetime 메서드를 사용하여 Date열의 자료형을 datetime 오브젝트로 변환한 다음 ebola 데이터프레임에 새로운 열로 추가합니다."
   ]
  },
  {
   "cell_type": "code",
   "execution_count": 15,
   "id": "august-equilibrium",
   "metadata": {},
   "outputs": [
    {
     "name": "stdout",
     "output_type": "stream",
     "text": [
      "<class 'pandas.core.frame.DataFrame'>\n",
      "RangeIndex: 122 entries, 0 to 121\n",
      "Data columns (total 19 columns):\n",
      " #   Column               Non-Null Count  Dtype         \n",
      "---  ------               --------------  -----         \n",
      " 0   Date                 122 non-null    object        \n",
      " 1   Day                  122 non-null    int64         \n",
      " 2   Cases_Guinea         93 non-null     float64       \n",
      " 3   Cases_Liberia        83 non-null     float64       \n",
      " 4   Cases_SierraLeone    87 non-null     float64       \n",
      " 5   Cases_Nigeria        38 non-null     float64       \n",
      " 6   Cases_Senegal        25 non-null     float64       \n",
      " 7   Cases_UnitedStates   18 non-null     float64       \n",
      " 8   Cases_Spain          16 non-null     float64       \n",
      " 9   Cases_Mali           12 non-null     float64       \n",
      " 10  Deaths_Guinea        92 non-null     float64       \n",
      " 11  Deaths_Liberia       81 non-null     float64       \n",
      " 12  Deaths_SierraLeone   87 non-null     float64       \n",
      " 13  Deaths_Nigeria       38 non-null     float64       \n",
      " 14  Deaths_Senegal       22 non-null     float64       \n",
      " 15  Deaths_UnitedStates  18 non-null     float64       \n",
      " 16  Deaths_Spain         16 non-null     float64       \n",
      " 17  Deaths_Mali          12 non-null     float64       \n",
      " 18  date_dt              122 non-null    datetime64[ns]\n",
      "dtypes: datetime64[ns](1), float64(16), int64(1), object(1)\n",
      "memory usage: 18.2+ KB\n",
      "None\n"
     ]
    }
   ],
   "source": [
    "ebola['date_dt'] = pd.to_datetime(ebola['Date'])\n",
    "print(ebola.info())"
   ]
  },
  {
   "cell_type": "markdown",
   "id": "integrated-drink",
   "metadata": {},
   "source": [
    "#### 4.\n",
    "\n",
    "to_datetime 메서드를 좀 더 자세히 알아볼까요? 시간 형식 지정자(%d, %m, %y)와 기호(|,-)를 적절히 조합하여 format 인자에 전달하면 그 형식에 맞게 정리된 datetime 오브젝트를 얻을 수 있습니다. 다음 실습을 참고하여 format 인자의 사용법을 꼭 익혀두세요."
   ]
  },
  {
   "cell_type": "code",
   "execution_count": 20,
   "id": "secret-large",
   "metadata": {},
   "outputs": [
    {
     "name": "stdout",
     "output_type": "stream",
     "text": [
      "  order_day   date_dt1   date_dt2   date_dt3\n",
      "0  01/01/15 2015-01-01 2015-01-01 2001-01-15\n",
      "1  02/01/15 2015-01-02 2015-02-01 2002-01-15\n",
      "2  03/01/15 2015-01-03 2015-03-01 2003-01-15\n"
     ]
    }
   ],
   "source": [
    "test_df1 = pd.DataFrame({'order_day':['01/01/15', '02/01/15', '03/01/15']})\n",
    "\n",
    "test_df1['date_dt1'] = pd.to_datetime(test_df1['order_day'], format = '%d/%m/%y')\n",
    "test_df1['date_dt2'] = pd.to_datetime(test_df1['order_day'], format = '%m/%d/%y')\n",
    "test_df1['date_dt3'] = pd.to_datetime(test_df1['order_day'], format = '%y/%m/%d')\n",
    "\n",
    "print(test_df1)"
   ]
  },
  {
   "cell_type": "code",
   "execution_count": 24,
   "id": "grand-colonial",
   "metadata": {},
   "outputs": [
    {
     "name": "stdout",
     "output_type": "stream",
     "text": [
      "  order_day    date_dt\n",
      "0  01-01-15 2015-01-01\n",
      "1  02-01-15 2015-01-02\n",
      "2  03-01-15 2015-01-03\n"
     ]
    }
   ],
   "source": [
    "test_df2 = pd.DataFrame({'order_day':['01-01-15', '02-01-15', '03-01-15']})\n",
    "test_df2['date_dt'] = pd.to_datetime(test_df2['order_day'], format='%d-%m-%y')\n",
    "                                      \n",
    "print(test_df2)"
   ]
  },
  {
   "cell_type": "markdown",
   "id": "bored-lawyer",
   "metadata": {},
   "source": [
    "#### 시간 형식 지정자\n",
    "\n",
    "다음은 시간 형식 지정자를 정리한 표입니다. 이 장의 실습에서 종종 사용하므로 한 번 읽고 넘어가기 바랍니다.\n",
    "\n",
    "\n",
    "- %a : 요일출력\n",
    "- %A : 요일출력(긴 이름)\n",
    "- %w : 요일 출력(숫자, 0부터 일요일)\n",
    "- %d : 날짜 출력 (2자리표시)\n",
    "- %b : 월 출력\n",
    "- %B : 월 출력 (긴 이름)\n",
    "- %m : 월 출력 (숫자)\n",
    "- %y : 년 출력(2자리로 표시)\n",
    "- %Y : 년 출력(4자리로 표시)\n",
    "- %H : 시간출력(24시간)\n",
    "- %l : 시간출력(12시간)\n",
    "- %p : AM 또는 PM 출력\n",
    "- %M : 분 출력(2자리로 표시)\n",
    "- %S : 초 출력(2자리로 표시)\n",
    "- %f : 마이크로초 출력\n",
    "- %z : UTC 차이 출력\n",
    "- %Z : 기준 지역 이름 출력\n",
    "- %j : 올해의 지난 일 수 출력\n",
    "- %U : 올해의 지난 주 수 출력\n",
    "- %c : 날짜와 시간 출력\n",
    "- %x : 날자 출력\n",
    "- %X : 시간 출력\n",
    "- %G : 년 출력\n",
    "- %u : 요일 출력\n",
    "- %V : 올해의 지난 주 수 출력(ISO 8601 형식)\n"
   ]
  },
  {
   "cell_type": "code",
   "execution_count": null,
   "id": "danish-airplane",
   "metadata": {},
   "outputs": [],
   "source": []
  }
 ],
 "metadata": {
  "kernelspec": {
   "display_name": "Python 3",
   "language": "python",
   "name": "python3"
  },
  "language_info": {
   "codemirror_mode": {
    "name": "ipython",
    "version": 3
   },
   "file_extension": ".py",
   "mimetype": "text/x-python",
   "name": "python",
   "nbconvert_exporter": "python",
   "pygments_lexer": "ipython3",
   "version": "3.6.9"
  }
 },
 "nbformat": 4,
 "nbformat_minor": 5
}
